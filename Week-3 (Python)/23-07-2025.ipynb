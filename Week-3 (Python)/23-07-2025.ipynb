{
 "cells": [
  {
   "cell_type": "markdown",
   "id": "6e96684b-45bd-4a74-93f0-61c7e243092f",
   "metadata": {},
   "source": [
    "### capitalize method"
   ]
  },
  {
   "cell_type": "code",
   "execution_count": 1,
   "id": "490a9958-fcd2-405c-9fbd-52915ce0cfca",
   "metadata": {},
   "outputs": [
    {
     "name": "stdout",
     "output_type": "stream",
     "text": [
      "Hello everyone\n"
     ]
    }
   ],
   "source": [
    "str_char=\"hello everyone\"\n",
    "print(str_char.capitalize())"
   ]
  },
  {
   "cell_type": "markdown",
   "id": "b3b51ae6-9153-4ac0-ab64-320a4357403c",
   "metadata": {},
   "source": [
    "### Title method"
   ]
  },
  {
   "cell_type": "code",
   "execution_count": 2,
   "id": "66828b64-8d5a-41b0-a11d-c34298d811f2",
   "metadata": {},
   "outputs": [
    {
     "name": "stdout",
     "output_type": "stream",
     "text": [
      "Hello Everyone\n"
     ]
    }
   ],
   "source": [
    "print(str_char.title())"
   ]
  },
  {
   "cell_type": "markdown",
   "id": "c65e4a64-4122-492b-b244-697efb2b362c",
   "metadata": {},
   "source": [
    "### Concatenation:"
   ]
  },
  {
   "cell_type": "code",
   "execution_count": 5,
   "id": "77f922ea-3c51-4e1f-b441-a621ef3822a6",
   "metadata": {},
   "outputs": [
    {
     "name": "stdout",
     "output_type": "stream",
     "text": [
      "Pythonclass\n"
     ]
    }
   ],
   "source": [
    "a=\"Python\"\n",
    "b=\"class\"\n",
    "print(a+b)"
   ]
  },
  {
   "cell_type": "code",
   "execution_count": 6,
   "id": "8b0c4792-e4ba-4233-98b2-c41f900c84fb",
   "metadata": {},
   "outputs": [
    {
     "name": "stdout",
     "output_type": "stream",
     "text": [
      "Python class\n"
     ]
    }
   ],
   "source": [
    "print(a+\" \"+b)"
   ]
  },
  {
   "cell_type": "code",
   "execution_count": 8,
   "id": "cbd2070a-1cba-4e8a-bef7-25cde1438870",
   "metadata": {},
   "outputs": [
    {
     "ename": "TypeError",
     "evalue": "can only concatenate str (not \"int\") to str",
     "output_type": "error",
     "traceback": [
      "\u001b[1;31m---------------------------------------------------------------------------\u001b[0m",
      "\u001b[1;31mTypeError\u001b[0m                                 Traceback (most recent call last)",
      "Cell \u001b[1;32mIn[8], line 3\u001b[0m\n\u001b[0;32m      1\u001b[0m a\u001b[38;5;241m=\u001b[39m\u001b[38;5;124m\"\u001b[39m\u001b[38;5;124mapple\u001b[39m\u001b[38;5;124m\"\u001b[39m\n\u001b[0;32m      2\u001b[0m c\u001b[38;5;241m=\u001b[39m\u001b[38;5;241m12\u001b[39m\n\u001b[1;32m----> 3\u001b[0m \u001b[38;5;28mprint\u001b[39m(a\u001b[38;5;241m+\u001b[39mc)\n",
      "\u001b[1;31mTypeError\u001b[0m: can only concatenate str (not \"int\") to str"
     ]
    }
   ],
   "source": [
    "a=\"apple\"\n",
    "c=12\n",
    "print(a+c)"
   ]
  },
  {
   "cell_type": "markdown",
   "id": "77c30b9f-157e-486e-8125-1906c405efd7",
   "metadata": {},
   "source": [
    "### format method:\n",
    "### this method is used to add a string to integer value"
   ]
  },
  {
   "cell_type": "code",
   "execution_count": 11,
   "id": "5b860aa6-feb9-4638-94c7-9a4f4005694f",
   "metadata": {},
   "outputs": [
    {
     "name": "stdout",
     "output_type": "stream",
     "text": [
      "my name is abc and my id_no is 234\n"
     ]
    }
   ],
   "source": [
    "name =\"abc\"\n",
    "id_no=234\n",
    "print(\"my name is {} and my id_no is {}\".format(name,id_no))"
   ]
  },
  {
   "cell_type": "markdown",
   "id": "59df93d2-0989-43ed-9e7b-649aedccd110",
   "metadata": {},
   "source": [
    "## Type casting:\n",
    "\n",
    "* converting one data type to another data type\n",
    "* they are two types\n",
    "*   1. auto type casting\n",
    "*   2. forced type casting"
   ]
  },
  {
   "cell_type": "code",
   "execution_count": 12,
   "id": "f6d7050d-484e-4fb3-a5fe-a43057cd5081",
   "metadata": {},
   "outputs": [
    {
     "data": {
      "text/plain": [
       "5.35"
      ]
     },
     "execution_count": 12,
     "metadata": {},
     "output_type": "execute_result"
    }
   ],
   "source": [
    "2+3.35"
   ]
  },
  {
   "cell_type": "code",
   "execution_count": 13,
   "id": "67d49070-7741-43f2-8998-3367cac69570",
   "metadata": {},
   "outputs": [
    {
     "data": {
      "text/plain": [
       "3.56"
      ]
     },
     "execution_count": 13,
     "metadata": {},
     "output_type": "execute_result"
    }
   ],
   "source": [
    "3.56 + False"
   ]
  },
  {
   "cell_type": "code",
   "execution_count": 14,
   "id": "13465833-e653-4320-b642-aaad680fe51d",
   "metadata": {},
   "outputs": [
    {
     "data": {
      "text/plain": [
       "5"
      ]
     },
     "execution_count": 14,
     "metadata": {},
     "output_type": "execute_result"
    }
   ],
   "source": [
    "True + 4"
   ]
  },
  {
   "cell_type": "code",
   "execution_count": 15,
   "id": "8c5c73d4-211e-47f1-87cc-03b2b13626bc",
   "metadata": {},
   "outputs": [
    {
     "name": "stdout",
     "output_type": "stream",
     "text": [
      "23\n",
      "<class 'int'>\n",
      "23.0\n"
     ]
    }
   ],
   "source": [
    "a=23\n",
    "print(a)\n",
    "print (type(a))\n",
    "print(float(a))"
   ]
  },
  {
   "cell_type": "code",
   "execution_count": 18,
   "id": "c5dd4b5a-ab65-4a6e-b9e0-e54a768dfb60",
   "metadata": {},
   "outputs": [
    {
     "name": "stdout",
     "output_type": "stream",
     "text": [
      "23\n",
      "<class 'str'>\n"
     ]
    }
   ],
   "source": [
    "value=23\n",
    "b=str(value)\n",
    "print(b)\n",
    "print(type(b))"
   ]
  },
  {
   "cell_type": "code",
   "execution_count": 20,
   "id": "e96424a7-fe96-4dd7-88d3-641f3c9be9a0",
   "metadata": {},
   "outputs": [
    {
     "name": "stdout",
     "output_type": "stream",
     "text": [
      "True\n"
     ]
    }
   ],
   "source": [
    "a=\"python\"\n",
    "print(bool(a))\n",
    "# important point in python any point other that 0 consider in bool is true"
   ]
  },
  {
   "cell_type": "code",
   "execution_count": 21,
   "id": "dc14cc0f-b5e5-422c-93b1-04f29241d6e7",
   "metadata": {},
   "outputs": [
    {
     "data": {
      "text/plain": [
       "8.14"
      ]
     },
     "execution_count": 21,
     "metadata": {},
     "output_type": "execute_result"
    }
   ],
   "source": [
    "2+3.14+int(3.24)"
   ]
  },
  {
   "cell_type": "code",
   "execution_count": 22,
   "id": "92d429bf-ffee-4b9f-9564-11502be887c5",
   "metadata": {},
   "outputs": [
    {
     "data": {
      "text/plain": [
       "13.6"
      ]
     },
     "execution_count": 22,
     "metadata": {},
     "output_type": "execute_result"
    }
   ],
   "source": [
    "bool(34)+float(5)+7.6"
   ]
  },
  {
   "cell_type": "markdown",
   "id": "63252341-b3d7-48be-8231-3b57f37a1fc1",
   "metadata": {},
   "source": [
    "## Operators:\n",
    "\n",
    "Operators are used to perform some operations on operands"
   ]
  },
  {
   "cell_type": "markdown",
   "id": "8acc8023-7450-4144-815e-c92aa7ec5c92",
   "metadata": {},
   "source": [
    "## 1. arithmetic operator \n",
    "\n",
    "+ , - , * , / , % , // "
   ]
  },
  {
   "cell_type": "code",
   "execution_count": 26,
   "id": "31974f2b-e307-4bf7-ab75-f39f9510a449",
   "metadata": {},
   "outputs": [
    {
     "name": "stdout",
     "output_type": "stream",
     "text": [
      "5.0\n",
      "0\n",
      "5\n"
     ]
    }
   ],
   "source": [
    "a= 10\n",
    "b= 2\n",
    "print(a/b)\n",
    "print(a%b)\n",
    "print(a//b)"
   ]
  },
  {
   "cell_type": "markdown",
   "id": "ca5761cf-d1ea-486e-8a0b-bc2ddcca91b7",
   "metadata": {},
   "source": [
    "## 2. Comparison operator\n",
    "\n",
    "== , < , > , <= , >= , !="
   ]
  },
  {
   "cell_type": "code",
   "execution_count": 28,
   "id": "ece81842-fa21-4d45-b242-5ad59326d45f",
   "metadata": {},
   "outputs": [
    {
     "name": "stdout",
     "output_type": "stream",
     "text": [
      "False\n",
      "True\n"
     ]
    }
   ],
   "source": [
    "print(a==b)\n",
    "print(a!=b)"
   ]
  },
  {
   "cell_type": "markdown",
   "id": "2a9e4172-443c-432d-bca5-4126407561f2",
   "metadata": {},
   "source": [
    "## 3. Logical operator\n",
    "\n",
    "and, or , not"
   ]
  },
  {
   "cell_type": "code",
   "execution_count": 32,
   "id": "64da788c-34c1-428e-956a-f1a9b05fd3ec",
   "metadata": {},
   "outputs": [
    {
     "name": "stdout",
     "output_type": "stream",
     "text": [
      "True\n",
      "True\n",
      "False\n"
     ]
    }
   ],
   "source": [
    "a= 12\n",
    "b= 10\n",
    "print(a>b and a>=b)\n",
    "\n",
    "print(a>b or a<=b)\n",
    "\n",
    "print(not(a>b or a<=b))"
   ]
  },
  {
   "cell_type": "code",
   "execution_count": null,
   "id": "956f5285-04c4-46d5-b103-d42e78d715d8",
   "metadata": {},
   "outputs": [],
   "source": []
  },
  {
   "cell_type": "code",
   "execution_count": null,
   "id": "8c433704-3893-4663-a347-0785c74f6111",
   "metadata": {},
   "outputs": [],
   "source": [
    "year= 2025"
   ]
  },
  {
   "cell_type": "code",
   "execution_count": null,
   "id": "9e5367e6-10d2-4f3c-a277-2e2f3e2ce52a",
   "metadata": {},
   "outputs": [],
   "source": []
  },
  {
   "cell_type": "markdown",
   "id": "352e9d6e-fe6b-49ae-afc6-90a96b302f71",
   "metadata": {},
   "source": [
    "## PEMDAS\n",
    "\n",
    "Which stands for:\n",
    "\n",
    "P – Parentheses\n",
    "E – Exponents (like ** for powers)\n",
    "MD – Multiplication and Division (left to right)\n",
    "AS – Addition and Subtraction (left to right)"
   ]
  },
  {
   "cell_type": "code",
   "execution_count": 34,
   "id": "26a29d11-9541-48ca-b096-fcb01316bd78",
   "metadata": {},
   "outputs": [
    {
     "name": "stdin",
     "output_type": "stream",
     "text": [
      "enter your name: just\n",
      " 123\n"
     ]
    }
   ],
   "source": [
    "name = input(\"enter your name:\")\n",
    "roll_no= int(input())"
   ]
  },
  {
   "cell_type": "code",
   "execution_count": 35,
   "id": "cec164d8-4eb8-4519-a216-fe78420db483",
   "metadata": {},
   "outputs": [
    {
     "name": "stdout",
     "output_type": "stream",
     "text": [
      "123\n"
     ]
    }
   ],
   "source": [
    "print(roll_no)"
   ]
  },
  {
   "cell_type": "code",
   "execution_count": null,
   "id": "6664066a-1238-402f-ac93-4c2c085953b9",
   "metadata": {},
   "outputs": [],
   "source": []
  }
 ],
 "metadata": {
  "kernelspec": {
   "display_name": "Python 3 (ipykernel)",
   "language": "python",
   "name": "python3"
  },
  "language_info": {
   "codemirror_mode": {
    "name": "ipython",
    "version": 3
   },
   "file_extension": ".py",
   "mimetype": "text/x-python",
   "name": "python",
   "nbconvert_exporter": "python",
   "pygments_lexer": "ipython3",
   "version": "3.12.7"
  }
 },
 "nbformat": 4,
 "nbformat_minor": 5
}
