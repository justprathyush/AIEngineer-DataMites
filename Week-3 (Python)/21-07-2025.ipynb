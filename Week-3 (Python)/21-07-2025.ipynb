{
 "cells": [
  {
   "cell_type": "markdown",
   "id": "227224a3",
   "metadata": {},
   "source": [
    "### Python "
   ]
  },
  {
   "cell_type": "code",
   "execution_count": 1,
   "id": "149566b2-eccb-4323-8c23-2fc2b90dffee",
   "metadata": {},
   "outputs": [
    {
     "name": "stdout",
     "output_type": "stream",
     "text": [
      "10\n"
     ]
    }
   ],
   "source": [
    "a = 10\n",
    "print(a)"
   ]
  },
  {
   "cell_type": "code",
   "execution_count": null,
   "id": "f985f780-3cf7-4453-9c84-727f4648c0ac",
   "metadata": {},
   "outputs": [],
   "source": [
    "#rules to declare a variable\n",
    "# should not starts with a number\n",
    "# should not contain special character except _\n",
    "# variable is case sensitive\n",
    "# keywords are not used as a variable name"
   ]
  },
  {
   "cell_type": "code",
   "execution_count": 2,
   "id": "0b1f0749-9410-4419-baf2-80eb334e0414",
   "metadata": {},
   "outputs": [
    {
     "name": "stdout",
     "output_type": "stream",
     "text": [
      "30\n"
     ]
    }
   ],
   "source": [
    "a = 20\n",
    "b=10\n",
    "print(a+b)"
   ]
  },
  {
   "cell_type": "code",
   "execution_count": 4,
   "id": "4a6a2657-2255-4149-9914-d68044068f26",
   "metadata": {},
   "outputs": [
    {
     "name": "stdout",
     "output_type": "stream",
     "text": [
      "['False', 'None', 'True', 'and', 'as', 'assert', 'async', 'await', 'break', 'class', 'continue', 'def', 'del', 'elif', 'else', 'except', 'finally', 'for', 'from', 'global', 'if', 'import', 'in', 'is', 'lambda', 'nonlocal', 'not', 'or', 'pass', 'raise', 'return', 'try', 'while', 'with', 'yield']\n"
     ]
    }
   ],
   "source": [
    "import keyword\n",
    "print(keyword.kwlist)"
   ]
  },
  {
   "cell_type": "code",
   "execution_count": 5,
   "id": "19b863f9-3c47-4ff9-922b-077ce8449879",
   "metadata": {},
   "outputs": [
    {
     "data": {
      "text/plain": [
       "35"
      ]
     },
     "execution_count": 5,
     "metadata": {},
     "output_type": "execute_result"
    }
   ],
   "source": [
    "len(keyword.kwlist)"
   ]
  },
  {
   "cell_type": "markdown",
   "id": "dff6ef43-b80b-478e-8315-2d4c98caf1d6",
   "metadata": {},
   "source": [
    "#indentation: spacing and indicating block of code\n",
    "b = -10\n",
    "if b>0:\n",
    "    print(\"value is positive\")# in print statement we use \"\" for looping statements and function like that. set of characters \"\",''\n",
    "else:\n",
    "    print(\"value is negative\")\n"
   ]
  },
  {
   "cell_type": "markdown",
   "id": "2eb3579a-b039-4d8a-96a1-c90cc7cc3a08",
   "metadata": {},
   "source": [
    "###bvj \n"
   ]
  },
  {
   "cell_type": "code",
   "execution_count": 19,
   "id": "acb62079-db9e-4493-8852-599699bf5ebc",
   "metadata": {},
   "outputs": [
    {
     "data": {
      "text/plain": [
       "140"
      ]
     },
     "execution_count": 19,
     "metadata": {},
     "output_type": "execute_result"
    }
   ],
   "source": [
    "a = 10+ 20+30\\\n",
    "+40+40\n",
    "a"
   ]
  },
  {
   "cell_type": "code",
   "execution_count": null,
   "id": "1bb117eb-33dc-44f4-9c3d-e0d3b176c389",
   "metadata": {},
   "outputs": [],
   "source": [
    "## #strings is collection of characters\n",
    "###is enclosed with \"\",''\n"
   ]
  },
  {
   "cell_type": "markdown",
   "id": "a86d4b2d-15c6-458e-ba4b-5343c7db450e",
   "metadata": {},
   "source": [
    "#comments is the explaination of code"
   ]
  },
  {
   "cell_type": "markdown",
   "id": "66b34c36-b7ed-427c-a344-475102403109",
   "metadata": {},
   "source": [
    "### good"
   ]
  },
  {
   "cell_type": "code",
   "execution_count": null,
   "id": "0c8d9c53-f7de-45b2-860c-15c653ed4767",
   "metadata": {},
   "outputs": [],
   "source": [
    "# by run ###,* using markdown we get headings and points"
   ]
  },
  {
   "cell_type": "code",
   "execution_count": null,
   "id": "f46b8fec-b5eb-4e4f-ba50-9dc01abeb3bd",
   "metadata": {},
   "outputs": [],
   "source": [
    "#  iden"
   ]
  },
  {
   "cell_type": "code",
   "execution_count": null,
   "id": "4a8a5892-5309-4889-9c23-151eaa20c3da",
   "metadata": {},
   "outputs": [],
   "source": [
    "#data types\n",
    "# integer\n",
    "# float\n"
   ]
  },
  {
   "cell_type": "code",
   "execution_count": 20,
   "id": "c234dceb-5b8c-4d02-8a76-27c1a103d441",
   "metadata": {},
   "outputs": [
    {
     "data": {
      "text/plain": [
       "20"
      ]
     },
     "execution_count": 20,
     "metadata": {},
     "output_type": "execute_result"
    }
   ],
   "source": [
    "a = 20\n",
    "a"
   ]
  },
  {
   "cell_type": "code",
   "execution_count": 22,
   "id": "9f1105b0-c1c7-4a2a-b014-427c254d0992",
   "metadata": {},
   "outputs": [
    {
     "name": "stdout",
     "output_type": "stream",
     "text": [
      "<class 'int'>\n"
     ]
    }
   ],
   "source": [
    "print(type(a))"
   ]
  },
  {
   "cell_type": "code",
   "execution_count": null,
   "id": "e685afaa-65f3-4fb3-b6ee-07e4771f1a97",
   "metadata": {},
   "outputs": [],
   "source": []
  },
  {
   "cell_type": "code",
   "execution_count": 23,
   "id": "3d3359c7-8b4b-4fc6-bd56-780396552510",
   "metadata": {},
   "outputs": [
    {
     "name": "stdout",
     "output_type": "stream",
     "text": [
      "28\n"
     ]
    }
   ],
   "source": [
    "import sys\n",
    "print(sys.getsizeof(a)) # it shows me the storage values in bytes"
   ]
  },
  {
   "cell_type": "code",
   "execution_count": 24,
   "id": "316e3731-2939-4f4d-b819-4b18f51f3520",
   "metadata": {},
   "outputs": [
    {
     "name": "stdout",
     "output_type": "stream",
     "text": [
      "<class 'bool'>\n"
     ]
    }
   ],
   "source": [
    "on = True\n",
    "print(type(on))"
   ]
  },
  {
   "cell_type": "code",
   "execution_count": 25,
   "id": "1422fcfc-5ede-41a0-a6c0-ca2604202789",
   "metadata": {},
   "outputs": [
    {
     "name": "stdout",
     "output_type": "stream",
     "text": [
      "True\n"
     ]
    }
   ],
   "source": [
    "a = 20\n",
    "print(bool(a))"
   ]
  },
  {
   "cell_type": "code",
   "execution_count": 26,
   "id": "acb42661-dd51-410d-8f7c-d527a956c2ec",
   "metadata": {},
   "outputs": [
    {
     "name": "stdout",
     "output_type": "stream",
     "text": [
      "False\n"
     ]
    }
   ],
   "source": [
    "b = -20\n",
    "print(bool(0))"
   ]
  },
  {
   "cell_type": "code",
   "execution_count": 27,
   "id": "4d61e9f5-b04f-427b-a055-f2fd23bf00b7",
   "metadata": {},
   "outputs": [
    {
     "name": "stdout",
     "output_type": "stream",
     "text": [
      "True\n"
     ]
    }
   ],
   "source": [
    "b = -30\n",
    "print(bool(b))"
   ]
  },
  {
   "cell_type": "code",
   "execution_count": 33,
   "id": "9400d047-c627-4ab0-8b3d-98b2ad312397",
   "metadata": {},
   "outputs": [
    {
     "name": "stdout",
     "output_type": "stream",
     "text": [
      "no\n"
     ]
    }
   ],
   "source": [
    "if True-1:\n",
    "    print(\"yes\")\n",
    "else:\n",
    "    print(\"no\")"
   ]
  },
  {
   "cell_type": "code",
   "execution_count": 34,
   "id": "185a1273-c859-43d1-b1c8-dc15ecbba11d",
   "metadata": {},
   "outputs": [
    {
     "name": "stdout",
     "output_type": "stream",
     "text": [
      "yes\n"
     ]
    }
   ],
   "source": [
    "if False:\n",
    "    print(\"yes\")\n",
    "else:                   # for false = 0\n",
    "    print(\"no\")"
   ]
  },
  {
   "cell_type": "code",
   "execution_count": 32,
   "id": "ce4f6bbf-9935-4858-abd1-47da7d7e1101",
   "metadata": {},
   "outputs": [
    {
     "name": "stdout",
     "output_type": "stream",
     "text": [
      "yes\n"
     ]
    }
   ],
   "source": [
    "if True-3:\n",
    "    print(\"yes\")\n",
    "else:                # True means 1  1-3=-2\n",
    "    print(\"no\")"
   ]
  }
 ],
 "metadata": {
  "kernelspec": {
   "display_name": "Python [conda env:base] *",
   "language": "python",
   "name": "conda-base-py"
  },
  "language_info": {
   "codemirror_mode": {
    "name": "ipython",
    "version": 3
   },
   "file_extension": ".py",
   "mimetype": "text/x-python",
   "name": "python",
   "nbconvert_exporter": "python",
   "pygments_lexer": "ipython3",
   "version": "3.13.5"
  }
 },
 "nbformat": 4,
 "nbformat_minor": 5
}
