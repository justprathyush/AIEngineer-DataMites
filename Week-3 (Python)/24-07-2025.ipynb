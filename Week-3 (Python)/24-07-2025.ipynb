{
 "cells": [
  {
   "cell_type": "markdown",
   "id": "fe193da9-d671-4d1e-b914-76b335d0901f",
   "metadata": {},
   "source": [
    "## Conditional Statement"
   ]
  },
  {
   "cell_type": "markdown",
   "id": "e8cf72ec-d54f-4fbc-9256-5a78281c735b",
   "metadata": {},
   "source": [
    "### 1. if:"
   ]
  },
  {
   "cell_type": "code",
   "execution_count": 9,
   "id": "77aee67c-dd12-48e3-a3b8-4dc1e984596c",
   "metadata": {},
   "outputs": [
    {
     "name": "stdout",
     "output_type": "stream",
     "text": [
      "a value is greater than 2\n",
      "this is out os the block\n"
     ]
    }
   ],
   "source": [
    "a=10\n",
    "if a>2:\n",
    "    print(\"a value is greater than 2\")\n",
    "print(\"this is out os the block\")"
   ]
  },
  {
   "cell_type": "markdown",
   "id": "fa82dc2e-77b9-4e9f-95f7-d6da4cdbe1b4",
   "metadata": {},
   "source": [
    "### 2. if - elses:"
   ]
  },
  {
   "cell_type": "code",
   "execution_count": 10,
   "id": "169cc1f7-807d-47c7-a068-3be11fcecd99",
   "metadata": {},
   "outputs": [
    {
     "name": "stdout",
     "output_type": "stream",
     "text": [
      "positive value\n"
     ]
    }
   ],
   "source": [
    "a= 13\n",
    "if a>0:\n",
    "    print(\"positive value\")\n",
    "else:\n",
    "    print(\"negative value\")"
   ]
  },
  {
   "cell_type": "code",
   "execution_count": null,
   "id": "1c8a0010-a8d6-4afa-bccd-e669163f38b7",
   "metadata": {},
   "outputs": [],
   "source": []
  },
  {
   "cell_type": "markdown",
   "id": "e63d08b7-aaca-4acc-952b-3831a51a8910",
   "metadata": {},
   "source": [
    "Leap year BS"
   ]
  },
  {
   "cell_type": "code",
   "execution_count": 12,
   "id": "99d77804-10b0-4b1b-bdac-a49b05a12f61",
   "metadata": {},
   "outputs": [
    {
     "name": "stdin",
     "output_type": "stream",
     "text": [
      "enter a year: 2020\n"
     ]
    },
    {
     "name": "stdout",
     "output_type": "stream",
     "text": [
      "2020 is a leap year\n"
     ]
    }
   ],
   "source": [
    "year = int(input(\"enter a year:\"))\n",
    "if(year % 4==0 and year % 100 != 0 or year % 400 ==0):\n",
    "    print(year, \"is a leap year\")\n",
    "else:\n",
    "    print(year,\"not a leap year\")"
   ]
  },
  {
   "cell_type": "markdown",
   "id": "c7655a5a-4b7c-4f9f-8d06-d9a94b86d3fc",
   "metadata": {},
   "source": [
    "### Code to find the day whether it is weeknd or weekdays"
   ]
  },
  {
   "cell_type": "code",
   "execution_count": 17,
   "id": "d1e92a9c-e001-404a-b3e1-05d397001744",
   "metadata": {},
   "outputs": [
    {
     "name": "stdin",
     "output_type": "stream",
     "text": [
      "Enter any day: 7\n"
     ]
    },
    {
     "name": "stdout",
     "output_type": "stream",
     "text": [
      "Happy Weeknd\n"
     ]
    }
   ],
   "source": [
    "day= int(input(\"Enter any day:\"))\n",
    "if day == 7 or day ==6:\n",
    "    print(\"Happy Weeknd\")\n",
    "elif day == 1 or day == 2 or day ==3 or day==4 or day ==5:\n",
    "    print(\"Weekdays\")\n",
    "else:\n",
    "    print(\"Enter valid number\")"
   ]
  },
  {
   "cell_type": "markdown",
   "id": "4abd7f7b-90a9-4282-8a0d-1254dec43b2d",
   "metadata": {},
   "source": [
    "## Nested IF"
   ]
  },
  {
   "cell_type": "code",
   "execution_count": 18,
   "id": "12e08d9f-815a-4934-9fd0-36e2a3b2b36d",
   "metadata": {},
   "outputs": [
    {
     "name": "stdout",
     "output_type": "stream",
     "text": [
      "Positive\n"
     ]
    }
   ],
   "source": [
    "a=10\n",
    "if a>=0:\n",
    "    if a==0:\n",
    "        print(\"Zero\")\n",
    "    else:\n",
    "        print(\"Positive\")\n",
    "else:\n",
    "    print(\"negative\")"
   ]
  },
  {
   "cell_type": "markdown",
   "id": "5a90df2b-be14-4f6c-ab52-db19f94a3dd8",
   "metadata": {},
   "source": []
  },
  {
   "cell_type": "markdown",
   "id": "29bf4150-d696-4a96-a7cf-d115173aeff3",
   "metadata": {},
   "source": [
    "# List\n"
   ]
  },
  {
   "cell_type": "code",
   "execution_count": 19,
   "id": "d6d29eb8-f150-4cbc-9e2f-7388ef34591b",
   "metadata": {},
   "outputs": [
    {
     "name": "stdout",
     "output_type": "stream",
     "text": [
      "[2, 4, 6, 2, 4, 55, 23, 8]\n",
      "8\n"
     ]
    }
   ],
   "source": [
    "a=[2,4,6,2,4,55,23,8]\n",
    "print(a)\n",
    "print(len(a))"
   ]
  },
  {
   "cell_type": "code",
   "execution_count": 22,
   "id": "6e8f899c-d312-4e3c-b6ec-bbb46e22009e",
   "metadata": {},
   "outputs": [
    {
     "name": "stdout",
     "output_type": "stream",
     "text": [
      "2\n"
     ]
    }
   ],
   "source": [
    "print(a[3])"
   ]
  },
  {
   "cell_type": "code",
   "execution_count": 23,
   "id": "fee4842d-66cd-4a10-9b06-5e2361739c61",
   "metadata": {},
   "outputs": [
    {
     "data": {
      "text/plain": [
       "[2, 4, 55, 23, 8]"
      ]
     },
     "execution_count": 23,
     "metadata": {},
     "output_type": "execute_result"
    }
   ],
   "source": [
    "a[3:]"
   ]
  },
  {
   "cell_type": "code",
   "execution_count": 26,
   "id": "8cdd51bf-ba80-4fb1-8bdb-bf197b267b00",
   "metadata": {},
   "outputs": [
    {
     "data": {
      "text/plain": [
       "5"
      ]
     },
     "execution_count": 26,
     "metadata": {},
     "output_type": "execute_result"
    }
   ],
   "source": [
    "a.index(55)"
   ]
  },
  {
   "cell_type": "code",
   "execution_count": 27,
   "id": "bd6b4854-b06b-474e-b783-0d84fd713d87",
   "metadata": {},
   "outputs": [
    {
     "data": {
      "text/plain": [
       "[8, 23, 55, 4, 2, 6, 4, 2]"
      ]
     },
     "execution_count": 27,
     "metadata": {},
     "output_type": "execute_result"
    }
   ],
   "source": [
    "a[::-1]"
   ]
  },
  {
   "cell_type": "markdown",
   "id": "373e0ac1-1021-46a5-bc9c-2cbdde67a888",
   "metadata": {},
   "source": [
    "# Method"
   ]
  },
  {
   "cell_type": "markdown",
   "id": "32368808-2696-4069-90d3-04c67915d1a2",
   "metadata": {},
   "source": [
    "## Update method"
   ]
  },
  {
   "cell_type": "code",
   "execution_count": 28,
   "id": "367f9186-db8f-4c43-8fcf-3c1246f40ab7",
   "metadata": {},
   "outputs": [
    {
     "name": "stdout",
     "output_type": "stream",
     "text": [
      "['apple', 5, 7, 'Python', 'Class', 67, 89]\n"
     ]
    }
   ],
   "source": [
    "a= [2,5,7,\"Python\",\"Class\",67,89]\n",
    "a[0]=\"apple\"\n",
    "print(a)"
   ]
  },
  {
   "cell_type": "markdown",
   "id": "95b68b00-4ce9-40d0-8be9-dee49044f0ed",
   "metadata": {},
   "source": [
    "## Insert method"
   ]
  },
  {
   "cell_type": "code",
   "execution_count": 29,
   "id": "33e10de9-4dcc-437b-8e75-d17356509a35",
   "metadata": {},
   "outputs": [
    {
     "name": "stdout",
     "output_type": "stream",
     "text": [
      "['apple', 5, 100, 7, 'Python', 'Class', 67, 89]\n"
     ]
    }
   ],
   "source": [
    "a.insert(2,100)\n",
    "print(a)"
   ]
  },
  {
   "cell_type": "markdown",
   "id": "b9e6ff5a-8029-4b3b-8f4a-3e7555bd74a9",
   "metadata": {},
   "source": [
    "## append method: (we can add only one element at last index position)\n"
   ]
  },
  {
   "cell_type": "code",
   "execution_count": 30,
   "id": "33828f98-fe8d-4692-98a6-de3c88832e20",
   "metadata": {},
   "outputs": [
    {
     "name": "stdout",
     "output_type": "stream",
     "text": [
      "['apple', 5, 100, 7, 'Python', 'Class', 67, 89, 300]\n"
     ]
    }
   ],
   "source": [
    "a.append(300)\n",
    "print(a)"
   ]
  },
  {
   "cell_type": "markdown",
   "id": "64f04e36-5706-4a9e-9822-a8edf901c0d4",
   "metadata": {},
   "source": [
    "## Extend method"
   ]
  },
  {
   "cell_type": "code",
   "execution_count": 34,
   "id": "1bc6bccd-d73e-4d34-9524-377869fecfb5",
   "metadata": {},
   "outputs": [
    {
     "name": "stdout",
     "output_type": "stream",
     "text": [
      "['apple', 5, 100, 7, 'Python', 'Class', 67, 89, 300, 1, 2, 3, 4, 1, 2, 3, 4, 1, 2, 3, 4]\n"
     ]
    }
   ],
   "source": [
    "a.extend([1,2,3,4])\n",
    "print(a)"
   ]
  },
  {
   "cell_type": "code",
   "execution_count": null,
   "id": "6a72d403-0d7b-4f05-9549-52a9b8feae36",
   "metadata": {},
   "outputs": [],
   "source": []
  }
 ],
 "metadata": {
  "kernelspec": {
   "display_name": "Python 3 (ipykernel)",
   "language": "python",
   "name": "python3"
  },
  "language_info": {
   "codemirror_mode": {
    "name": "ipython",
    "version": 3
   },
   "file_extension": ".py",
   "mimetype": "text/x-python",
   "name": "python",
   "nbconvert_exporter": "python",
   "pygments_lexer": "ipython3",
   "version": "3.12.7"
  }
 },
 "nbformat": 4,
 "nbformat_minor": 5
}
