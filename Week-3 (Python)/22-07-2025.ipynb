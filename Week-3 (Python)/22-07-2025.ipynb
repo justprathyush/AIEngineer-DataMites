{
 "cells": [
  {
   "cell_type": "code",
   "execution_count": 7,
   "id": "afce3751-68c4-4f18-9a64-6ac86b9bee5f",
   "metadata": {},
   "outputs": [
    {
     "name": "stdout",
     "output_type": "stream",
     "text": [
      "20\n",
      "hello\n",
      "3.11\n"
     ]
    }
   ],
   "source": [
    "# single individual Assignment \n",
    "intvalue=20\n",
    "strvalue=\"hello\"\n",
    "floatvalue=3.11\n",
    "print(intvalue)\n",
    "print(strvalue)\n",
    "print(floatvalue)"
   ]
  },
  {
   "cell_type": "code",
   "execution_count": 8,
   "id": "d398e23d-3d7b-411d-8639-380a823a0e09",
   "metadata": {},
   "outputs": [
    {
     "name": "stdout",
     "output_type": "stream",
     "text": [
      "30\n",
      "Python\n",
      "2.34\n"
     ]
    }
   ],
   "source": [
    "# multiple assignment \n",
    "intvalue, strvalue, floatvalue = 30, \"Python\", 2.34\n",
    "print(intvalue)\n",
    "print(strvalue)\n",
    "print(floatvalue)"
   ]
  },
  {
   "cell_type": "code",
   "execution_count": 9,
   "id": "64496ec9-c291-4282-8fc3-e7d54664455b",
   "metadata": {},
   "outputs": [
    {
     "name": "stdout",
     "output_type": "stream",
     "text": [
      "40\n",
      "40\n",
      "40\n"
     ]
    }
   ],
   "source": [
    "# multiple vaiaable with single assignment \n",
    "intvalue = strvalue = floatvalue = 40\n",
    "print(intvalue)\n",
    "print(strvalue)\n",
    "print(floatvalue)"
   ]
  },
  {
   "cell_type": "code",
   "execution_count": 11,
   "id": "8c9db418-131f-4d22-b19c-c3a5e2f6f7d1",
   "metadata": {},
   "outputs": [
    {
     "name": "stdout",
     "output_type": "stream",
     "text": [
      "False\n",
      "True\n",
      "True\n",
      "False\n"
     ]
    }
   ],
   "source": [
    "#isinstance method: (It checks the given value belongs to that particular datatype or not)\n",
    "var = 20\n",
    "var2=23.6\n",
    "print(isinstance(var,float))\n",
    "print(isinstance(var,int))\n",
    "print(isinstance(var2,float))\n",
    "print(isinstance(var2,int))\n"
   ]
  },
  {
   "cell_type": "markdown",
   "id": "219bd90d-d4c4-4d36-8fd0-23eaba32b60c",
   "metadata": {},
   "source": [
    "# String:\n",
    "# string is a collection of characters\n",
    "# immutable data type- we can't change the data\n",
    "# it is enclosed with either '' or \"\""
   ]
  },
  {
   "cell_type": "code",
   "execution_count": 12,
   "id": "eb87d6d2-2d47-4ea8-985d-2dc90b34913a",
   "metadata": {},
   "outputs": [
    {
     "data": {
      "text/plain": [
       "'hello everyone'"
      ]
     },
     "execution_count": 12,
     "metadata": {},
     "output_type": "execute_result"
    }
   ],
   "source": [
    "string_var = \"hello everyone\"\n",
    "string_var"
   ]
  },
  {
   "cell_type": "code",
   "execution_count": 13,
   "id": "46b0b9c5-7fc6-4369-a1c7-d451601ff4fb",
   "metadata": {},
   "outputs": [
    {
     "name": "stdout",
     "output_type": "stream",
     "text": [
      "e\n"
     ]
    }
   ],
   "source": [
    "print(string_var[8])"
   ]
  },
  {
   "cell_type": "code",
   "execution_count": 19,
   "id": "17ab8708-ef34-4bce-957d-719b3fc3c56d",
   "metadata": {},
   "outputs": [
    {
     "name": "stdout",
     "output_type": "stream",
     "text": [
      "e\n",
      "e\n"
     ]
    }
   ],
   "source": [
    "print(string_var[13])\n",
    "print(string_var[-1])"
   ]
  },
  {
   "cell_type": "code",
   "execution_count": 20,
   "id": "fdf9ffa8-ecf7-4a91-a742-2e57b84ccdac",
   "metadata": {},
   "outputs": [
    {
     "name": "stdout",
     "output_type": "stream",
     "text": [
      "everyone\n"
     ]
    }
   ],
   "source": [
    "print(string_var[6:14])"
   ]
  },
  {
   "cell_type": "code",
   "execution_count": 23,
   "id": "ce552a0b-47ef-43dd-9df0-6d6c4cc7c97a",
   "metadata": {},
   "outputs": [
    {
     "name": "stdout",
     "output_type": "stream",
     "text": [
      "llo every\n"
     ]
    }
   ],
   "source": [
    "print(string_var[-12:-3])"
   ]
  },
  {
   "cell_type": "code",
   "execution_count": 24,
   "id": "60d573dd-f6ec-434a-92d1-24b5b19bf7e2",
   "metadata": {},
   "outputs": [
    {
     "name": "stdout",
     "output_type": "stream",
     "text": [
      "hello everyone\n"
     ]
    }
   ],
   "source": [
    "print(string_var[:])"
   ]
  },
  {
   "cell_type": "code",
   "execution_count": 26,
   "id": "f3559685-660e-4713-8cbf-134ea0d7ec59",
   "metadata": {},
   "outputs": [
    {
     "name": "stdout",
     "output_type": "stream",
     "text": [
      "hloeeyn\n"
     ]
    }
   ],
   "source": [
    "# Step indexing\n",
    "\n",
    "print(string_var[0: :2])"
   ]
  },
  {
   "cell_type": "code",
   "execution_count": 27,
   "id": "d9b77ca2-a227-4428-8b4d-260b9e342036",
   "metadata": {},
   "outputs": [
    {
     "name": "stdout",
     "output_type": "stream",
     "text": [
      "aaSi\n"
     ]
    }
   ],
   "source": [
    "val3=\"Data Science\"\n",
    "\n",
    "print(val3[1:8:2])"
   ]
  },
  {
   "cell_type": "markdown",
   "id": "6399ad3d-f626-4c43-9fdb-718d28942451",
   "metadata": {},
   "source": [
    "### updating, deleting"
   ]
  },
  {
   "cell_type": "code",
   "execution_count": 29,
   "id": "91d770bd-cbda-4935-9d76-23df48423929",
   "metadata": {},
   "outputs": [
    {
     "ename": "TypeError",
     "evalue": "'str' object does not support item assignment",
     "output_type": "error",
     "traceback": [
      "\u001b[1;31m---------------------------------------------------------------------------\u001b[0m",
      "\u001b[1;31mTypeError\u001b[0m                                 Traceback (most recent call last)",
      "Cell \u001b[1;32mIn[29], line 2\u001b[0m\n\u001b[0;32m      1\u001b[0m var1\u001b[38;5;241m=\u001b[39m\u001b[38;5;124m\"\u001b[39m\u001b[38;5;124mgood morning\u001b[39m\u001b[38;5;124m\"\u001b[39m\n\u001b[1;32m----> 2\u001b[0m var1[\u001b[38;5;241m5\u001b[39m:]\u001b[38;5;241m=\u001b[39m\u001b[38;5;124m\"\u001b[39m\u001b[38;5;124mevening\u001b[39m\u001b[38;5;124m\"\u001b[39m\n\u001b[0;32m      3\u001b[0m \u001b[38;5;28mprint\u001b[39m(var1)\n",
      "\u001b[1;31mTypeError\u001b[0m: 'str' object does not support item assignment"
     ]
    }
   ],
   "source": [
    "var1=\"good morning\"\n",
    "var1[5:]=\"evening\"\n",
    "print(var1)"
   ]
  },
  {
   "cell_type": "markdown",
   "id": "3a729afb-0d13-47ca-95fa-6311141565df",
   "metadata": {},
   "source": [
    "### count"
   ]
  },
  {
   "cell_type": "code",
   "execution_count": 30,
   "id": "9342f4ff-df9f-40c5-9e59-bb9e15785570",
   "metadata": {},
   "outputs": [
    {
     "name": "stdout",
     "output_type": "stream",
     "text": [
      "2\n",
      "2\n"
     ]
    }
   ],
   "source": [
    "var=\"Data Science\"\n",
    "print(var.count('a'))\n",
    "print(var.count('e'))"
   ]
  },
  {
   "cell_type": "code",
   "execution_count": 32,
   "id": "ddda819a-0bc1-43bb-9c3d-0d7dfd95cdb4",
   "metadata": {},
   "outputs": [
    {
     "data": {
      "text/plain": [
       "1"
      ]
     },
     "execution_count": 32,
     "metadata": {},
     "output_type": "execute_result"
    }
   ],
   "source": [
    "# index method:\n",
    "var.index('a')"
   ]
  },
  {
   "cell_type": "code",
   "execution_count": 36,
   "id": "1bfde102-0242-4985-8219-af5c202a2e7f",
   "metadata": {},
   "outputs": [
    {
     "name": "stdout",
     "output_type": "stream",
     "text": [
      "True\n",
      "False\n"
     ]
    }
   ],
   "source": [
    "# membership in strings\n",
    "ab= \"hello everyone\"\n",
    "print(\"hello\" in ab)\n",
    "print(\"Hello\" in ab)"
   ]
  },
  {
   "cell_type": "code",
   "execution_count": 37,
   "id": "08a99330-5dc7-422f-a965-0304a958bc05",
   "metadata": {},
   "outputs": [
    {
     "name": "stdout",
     "output_type": "stream",
     "text": [
      "14\n"
     ]
    }
   ],
   "source": [
    "# len (Length of the String)\n",
    "print(len(ab))"
   ]
  },
  {
   "cell_type": "code",
   "execution_count": 46,
   "id": "0b16797e-a96c-4874-902e-c3e43f3f43be",
   "metadata": {},
   "outputs": [
    {
     "name": "stdout",
     "output_type": "stream",
     "text": [
      "python class\n",
      "PYTHON CLASS\n"
     ]
    }
   ],
   "source": [
    "#lower:\n",
    "\n",
    "var=\"Python class\"\n",
    "print(var.lower())\n",
    "print(var.upper())"
   ]
  },
  {
   "cell_type": "code",
   "execution_count": 47,
   "id": "28bc7376-7f7c-4876-a711-116ff62557e7",
   "metadata": {},
   "outputs": [
    {
     "name": "stdout",
     "output_type": "stream",
     "text": [
      "pYTHON CLASS\n"
     ]
    }
   ],
   "source": [
    "print(var.swapcase())"
   ]
  },
  {
   "cell_type": "code",
   "execution_count": 48,
   "id": "58242899-af7d-4a26-99d5-665be725eba6",
   "metadata": {},
   "outputs": [
    {
     "name": "stdout",
     "output_type": "stream",
     "text": [
      "False\n",
      "False\n"
     ]
    }
   ],
   "source": [
    "print(var.islower())\n",
    "print(var.isupper())"
   ]
  },
  {
   "cell_type": "markdown",
   "id": "a644f229-3c85-4889-ba36-603314f1f727",
   "metadata": {},
   "source": [
    "### replace method:"
   ]
  },
  {
   "cell_type": "code",
   "execution_count": 53,
   "id": "f43ab65b-501c-41c6-9a15-8c4d38ffac81",
   "metadata": {},
   "outputs": [
    {
     "name": "stdout",
     "output_type": "stream",
     "text": [
      "Data Science\n",
      "life Science\n"
     ]
    }
   ],
   "source": [
    "var1=\"Data Science\"\n",
    "print(var1.replace('data','life'))\n",
    "print(var1.replace('Data','life'))"
   ]
  },
  {
   "cell_type": "markdown",
   "id": "23be027f-67f0-4c80-ade4-39a2cb7b9127",
   "metadata": {},
   "source": [
    "### Partition "
   ]
  },
  {
   "cell_type": "code",
   "execution_count": 57,
   "id": "b6e85ec6-310a-4468-b473-11cf921428f0",
   "metadata": {},
   "outputs": [
    {
     "name": "stdout",
     "output_type": "stream",
     "text": [
      "('hello everyone ', 'this', ' is python class')\n",
      "('', 'hello', ' everyone this is python class')\n"
     ]
    }
   ],
   "source": [
    "var=\"hello everyone this is python class\"\n",
    "print(var.partition('this'))\n",
    "print(var.partition('hello'))\n",
    "\n",
    "# the partition is stored the data in tuple"
   ]
  },
  {
   "cell_type": "markdown",
   "id": "462ac743-346f-442e-b3ca-da7d40a05907",
   "metadata": {},
   "source": [
    "### Strip method"
   ]
  },
  {
   "cell_type": "code",
   "execution_count": 61,
   "id": "fa5f0166-2e9d-4feb-8ce7-ccffcb09529b",
   "metadata": {},
   "outputs": [
    {
     "name": "stdout",
     "output_type": "stream",
     "text": [
      "hello everyone this is python class\n"
     ]
    }
   ],
   "source": [
    "var=\"     hello everyone this is python class\"\n",
    "print(var.strip())\n",
    "\n",
    "# It will remove the blank space at the initial point"
   ]
  },
  {
   "cell_type": "code",
   "execution_count": 64,
   "id": "c24af835-1590-41da-9dae-5edfcc6ecc24",
   "metadata": {},
   "outputs": [
    {
     "name": "stdout",
     "output_type": "stream",
     "text": [
      "hello everyone this is python class\n"
     ]
    }
   ],
   "source": [
    "var=\"   ##### $$$$$  hello everyone this is python class %%%%% ##### \"\n",
    "print(var.strip('# $ %'))"
   ]
  },
  {
   "cell_type": "code",
   "execution_count": null,
   "id": "b1532064-e571-4bd9-810b-0aebad4acdf5",
   "metadata": {},
   "outputs": [],
   "source": []
  }
 ],
 "metadata": {
  "kernelspec": {
   "display_name": "Python 3 (ipykernel)",
   "language": "python",
   "name": "python3"
  },
  "language_info": {
   "codemirror_mode": {
    "name": "ipython",
    "version": 3
   },
   "file_extension": ".py",
   "mimetype": "text/x-python",
   "name": "python",
   "nbconvert_exporter": "python",
   "pygments_lexer": "ipython3",
   "version": "3.12.7"
  }
 },
 "nbformat": 4,
 "nbformat_minor": 5
}
