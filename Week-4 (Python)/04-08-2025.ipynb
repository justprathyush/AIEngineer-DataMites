{
 "cells": [
  {
   "cell_type": "markdown",
   "id": "fd202313-74c2-48d7-9087-6723895e6570",
   "metadata": {},
   "source": [
    "# Revision"
   ]
  },
  {
   "cell_type": "code",
   "execution_count": 3,
   "id": "9552b294-9e27-4b75-9af2-5f52c4fce2ff",
   "metadata": {},
   "outputs": [
    {
     "name": "stdout",
     "output_type": "stream",
     "text": [
      "\n"
     ]
    }
   ],
   "source": [
    "# try \"Shift + Tab\" to get the info of the function\n",
    "print()"
   ]
  },
  {
   "cell_type": "markdown",
   "id": "a601885f-41ca-4f2d-8bbb-83142872c320",
   "metadata": {},
   "source": [
    "## What is library and module?\n",
    "\n",
    " If \"module\" is tool(subset) then the \"Library\" is a toolbox(Superset)\n",
    "\n",
    "#### Module\n",
    "A module is a single Python file (.py) that contains code — functions, variables, classes, etc.\n",
    "\n",
    "#### Library\n",
    "A library is a collection of modules bundled together to do specific tasks — like data science, plotting, or machine learning."
   ]
  },
  {
   "cell_type": "code",
   "execution_count": 2,
   "id": "8ceed024-2453-432b-a12f-bd684edfad0e",
   "metadata": {},
   "outputs": [
    {
     "name": "stdout",
     "output_type": "stream",
     "text": [
      "['False', 'None', 'True', 'and', 'as', 'assert', 'async', 'await', 'break', 'class', 'continue', 'def', 'del', 'elif', 'else', 'except', 'finally', 'for', 'from', 'global', 'if', 'import', 'in', 'is', 'lambda', 'nonlocal', 'not', 'or', 'pass', 'raise', 'return', 'try', 'while', 'with', 'yield']\n"
     ]
    }
   ],
   "source": [
    "import numpy as np # 'numpy' -> library\n",
    "import keyword # Here the the \"Keyword \" -> module\n",
    "print(keyword.kwlist) # \"kwlist\" -> variable(list)\n",
    "\n",
    "# keyword is not a library — it's a single built-in module."
   ]
  },
  {
   "cell_type": "markdown",
   "id": "1bfc887b-57c6-4e16-8513-f15117702caf",
   "metadata": {},
   "source": [
    "## Identifier vs Variable\n",
    "\n",
    "## Identifier:\n",
    "* Any name you give to things in Python:\n",
    "* variables, functions, classes, modules, etc.\n",
    "* Basically: a label you create\n",
    "#### Example\n",
    "<pre> \n",
    "def greet():          # 'greet' is an identifier (for a function)\n",
    "    name = \"Lexi\"     # 'name' is an identifier (a variable)\n",
    "    print(\"Hi\", name)\n",
    "\n",
    "class Bot:            # 'Bot' is an identifier (for a class)\n",
    "    pass\n",
    "</pre>\n",
    "\n",
    "## Variable:\n",
    "* A type of identifier — it stores data.\n",
    "* It’s a name pointing to a value in memory.\n",
    "#### Example\n",
    "<pre>\n",
    "Clothes = \"pants\"\n",
    "</pre>\n",
    "Here the 'Clothes' is  Variable and 'pants' is value"
   ]
  },
  {
   "cell_type": "markdown",
   "id": "b7279126-dc6d-4cb7-ac9f-87e2c8c22fb0",
   "metadata": {},
   "source": [
    "# Data types into two:\n",
    "\n",
    "    1. Primitive (It will not return address)\n",
    "        \n",
    "        Nonetype (?)\n",
    "        Numeric\n",
    "            *int\n",
    "            *float\n",
    "            *bool\n",
    "            *complex(Real & Imaginary)\n",
    "            str\n",
    "            *None\n",
    "            \n",
    "            \n",
    "    2. Non Primitive (it will return address)\n",
    "        1. List\n",
    "        2. tuple\n",
    "        3. dictionary \n",
    "        4. set -> frozenset\n",
    "        5. range (immutable)\n",
    "        6. String (immutable)\n",
    "\n"
   ]
  },
  {
   "cell_type": "markdown",
   "id": "7acf37a2-c244-4dd9-87cc-a78a7ba13030",
   "metadata": {},
   "source": [
    "# Methods (37 methods)"
   ]
  },
  {
   "cell_type": "code",
   "execution_count": 1,
   "id": "d5f37ffb-ba7a-40ec-abfa-8fb5bcc37e30",
   "metadata": {},
   "outputs": [
    {
     "name": "stdout",
     "output_type": "stream",
     "text": [
      "['__add__', '__class__', '__contains__', '__delattr__', '__dir__', '__doc__', '__eq__', '__format__', '__ge__', '__getattribute__', '__getitem__', '__getnewargs__', '__getstate__', '__gt__', '__hash__', '__init__', '__init_subclass__', '__iter__', '__le__', '__len__', '__lt__', '__mod__', '__mul__', '__ne__', '__new__', '__reduce__', '__reduce_ex__', '__repr__', '__rmod__', '__rmul__', '__setattr__', '__sizeof__', '__str__', '__subclasshook__', 'capitalize', 'casefold', 'center', 'count', 'encode', 'endswith', 'expandtabs', 'find', 'format', 'format_map', 'index', 'isalnum', 'isalpha', 'isascii', 'isdecimal', 'isdigit', 'isidentifier', 'islower', 'isnumeric', 'isprintable', 'isspace', 'istitle', 'isupper', 'join', 'ljust', 'lower', 'lstrip', 'maketrans', 'partition', 'removeprefix', 'removesuffix', 'replace', 'rfind', 'rindex', 'rjust', 'rpartition', 'rsplit', 'rstrip', 'split', 'splitlines', 'startswith', 'strip', 'swapcase', 'title', 'translate', 'upper', 'zfill']\n"
     ]
    }
   ],
   "source": [
    "print(dir(str))"
   ]
  },
  {
   "cell_type": "code",
   "execution_count": null,
   "id": "172c64ae-ff6e-4ecd-aaf9-15dac62d413f",
   "metadata": {},
   "outputs": [],
   "source": []
  }
 ],
 "metadata": {
  "kernelspec": {
   "display_name": "Python 3 (ipykernel)",
   "language": "python",
   "name": "python3"
  },
  "language_info": {
   "codemirror_mode": {
    "name": "ipython",
    "version": 3
   },
   "file_extension": ".py",
   "mimetype": "text/x-python",
   "name": "python",
   "nbconvert_exporter": "python",
   "pygments_lexer": "ipython3",
   "version": "3.12.7"
  }
 },
 "nbformat": 4,
 "nbformat_minor": 5
}
