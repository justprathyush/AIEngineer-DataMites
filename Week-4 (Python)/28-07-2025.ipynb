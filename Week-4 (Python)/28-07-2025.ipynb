{
 "cells": [
  {
   "cell_type": "markdown",
   "id": "da356252-e2f4-49d8-b775-e1aeacba9155",
   "metadata": {},
   "source": [
    "## pop method"
   ]
  },
  {
   "cell_type": "code",
   "execution_count": 3,
   "id": "0e3b6ebd-754a-4b4f-9365-1d6f5a7495c9",
   "metadata": {},
   "outputs": [
    {
     "name": "stdout",
     "output_type": "stream",
     "text": [
      "[1, 34, 55, 23, 9]\n"
     ]
    }
   ],
   "source": [
    "a=[1,34,55,34,23,9]\n",
    "a.pop(3)\n",
    "print(a)"
   ]
  },
  {
   "cell_type": "markdown",
   "id": "36ea95a4-8a96-4069-9e99-4fdfb9f6767d",
   "metadata": {},
   "source": [
    "## Reverse method\n"
   ]
  },
  {
   "cell_type": "code",
   "execution_count": 4,
   "id": "3b06ae51-1047-42eb-864d-0ac9d6bb5302",
   "metadata": {},
   "outputs": [
    {
     "data": {
      "text/plain": [
       "[9, 23, 55, 34, 1]"
      ]
     },
     "execution_count": 4,
     "metadata": {},
     "output_type": "execute_result"
    }
   ],
   "source": [
    "a.reverse()\n",
    "a"
   ]
  },
  {
   "cell_type": "markdown",
   "id": "7e924e15-fcfe-47b3-b8d2-bfd0ea45a743",
   "metadata": {},
   "source": [
    "## sort method"
   ]
  },
  {
   "cell_type": "code",
   "execution_count": 5,
   "id": "1601f6a1-c673-4d36-8860-9219ee866859",
   "metadata": {},
   "outputs": [
    {
     "name": "stdout",
     "output_type": "stream",
     "text": [
      "[1, 12, 23, 23, 44, 67, 87]\n"
     ]
    }
   ],
   "source": [
    "b=[23,44,12,1,23,67,87]\n",
    "b.sort()\n",
    "print(b)"
   ]
  },
  {
   "cell_type": "markdown",
   "id": "b93ce009-6bb9-4751-8852-fa7f489405ff",
   "metadata": {},
   "source": [
    "## sort boolean"
   ]
  },
  {
   "cell_type": "code",
   "execution_count": 7,
   "id": "e37d7425-da6a-4460-b245-92e0cf447bcd",
   "metadata": {},
   "outputs": [
    {
     "data": {
      "text/plain": [
       "[87, 67, 44, 23, 23, 12, 1]"
      ]
     },
     "execution_count": 7,
     "metadata": {},
     "output_type": "execute_result"
    }
   ],
   "source": [
    "b.sort(reverse=True)\n",
    "b"
   ]
  },
  {
   "cell_type": "code",
   "execution_count": 11,
   "id": "c0b7a454-fe62-4c94-9a65-0996cfb17f32",
   "metadata": {},
   "outputs": [
    {
     "name": "stdout",
     "output_type": "stream",
     "text": [
      "3\n",
      "7\n"
     ]
    }
   ],
   "source": [
    "b=[23,44,12,1,23,67,87]\n",
    "print(b.index(1)) #To findout the index position oof a value\n",
    "print(len(b))"
   ]
  },
  {
   "cell_type": "code",
   "execution_count": 10,
   "id": "937bbc10-9504-4f8c-b5ad-42d25467ed3a",
   "metadata": {},
   "outputs": [
    {
     "name": "stdout",
     "output_type": "stream",
     "text": [
      "87\n",
      "1\n"
     ]
    }
   ],
   "source": [
    "print(max(b))\n",
    "print(min(b))"
   ]
  },
  {
   "cell_type": "markdown",
   "id": "3c631b51-125a-43b6-b2f0-ea7debcb1643",
   "metadata": {},
   "source": [
    "## Del method"
   ]
  },
  {
   "cell_type": "code",
   "execution_count": 17,
   "id": "43ef3ac3-aaf2-4f13-a0ac-8f2c57ed5771",
   "metadata": {},
   "outputs": [
    {
     "name": "stdout",
     "output_type": "stream",
     "text": [
      "[23, 44, 12, 23, 67, 87]\n"
     ]
    }
   ],
   "source": [
    "b=[23,44,12,1,23,67,87]\n",
    "del(b[3]) # or del b[3]\n",
    "print(b)"
   ]
  },
  {
   "cell_type": "markdown",
   "id": "9ce26f50-7678-4009-993a-5de97ee3bfe0",
   "metadata": {},
   "source": [
    "## Clear method"
   ]
  },
  {
   "cell_type": "code",
   "execution_count": 14,
   "id": "08668e8d-eb62-4f2c-b596-c3dacef5ec73",
   "metadata": {},
   "outputs": [
    {
     "name": "stdout",
     "output_type": "stream",
     "text": [
      "[]\n"
     ]
    }
   ],
   "source": [
    "b=[23,44,12,1,23,67,87]\n",
    "b.clear()\n",
    "print(b)"
   ]
  },
  {
   "cell_type": "markdown",
   "id": "77b4ae3a-81bf-4874-98ef-614b10c5f4da",
   "metadata": {},
   "source": [
    "## Remove"
   ]
  },
  {
   "cell_type": "code",
   "execution_count": 20,
   "id": "299bac62-7c02-44e9-85f9-e8c1e55d40c1",
   "metadata": {},
   "outputs": [
    {
     "name": "stdout",
     "output_type": "stream",
     "text": [
      "[23, 44, 1, 23, 67, 87]\n"
     ]
    }
   ],
   "source": [
    "b=[23,44,12,1,23,67,87]\n",
    "b.remove(12)\n",
    "print(b)"
   ]
  },
  {
   "cell_type": "markdown",
   "id": "5f57504c-3071-427d-a6cc-45fffc8809c8",
   "metadata": {},
   "source": [
    "## concatenation of list"
   ]
  },
  {
   "cell_type": "code",
   "execution_count": 21,
   "id": "41e21aa8-d71b-48c7-ae3b-83a4948d2c2d",
   "metadata": {},
   "outputs": [
    {
     "name": "stdout",
     "output_type": "stream",
     "text": [
      "[1, 2, 3, 3, 4, 5]\n"
     ]
    }
   ],
   "source": [
    "a=[1,2,3]\n",
    "b=[3,4,5]\n",
    "print(a+b)"
   ]
  },
  {
   "cell_type": "markdown",
   "id": "63e4c478-3213-4916-afad-5e062f67433d",
   "metadata": {},
   "source": [
    "## all(), any()"
   ]
  },
  {
   "cell_type": "markdown",
   "id": "1877603f-54e3-4cbd-9ba1-a9736605e0db",
   "metadata": {},
   "source": [
    "#### all() - it prints true when the all char or values are true\n",
    "\n",
    "#### any() - it any one value is true then the entire list is taken as true"
   ]
  },
  {
   "cell_type": "code",
   "execution_count": 25,
   "id": "bafc671b-aab2-4e0f-a49d-ed35cccc140c",
   "metadata": {},
   "outputs": [
    {
     "name": "stdout",
     "output_type": "stream",
     "text": [
      "True\n",
      "True\n"
     ]
    }
   ],
   "source": [
    "a=[2,4,6,33,45,23,12]\n",
    "print(any(a))\n",
    "print(all(a))"
   ]
  },
  {
   "cell_type": "markdown",
   "id": "f9fc4615-c9c3-44a9-92fa-3cfd85a2e418",
   "metadata": {},
   "source": [
    "# Tuple:"
   ]
  },
  {
   "cell_type": "markdown",
   "id": "d5b942cc-b819-400c-96a3-9c754835ca70",
   "metadata": {},
   "source": [
    "#### tuple is immutable data type\n",
    "#### it is a collection of data\n",
    "#### it is enclosed with()\n",
    "#### index position starts with 0"
   ]
  },
  {
   "cell_type": "code",
   "execution_count": 28,
   "id": "f83386b9-30c7-459b-819a-a8e37492c9ff",
   "metadata": {},
   "outputs": [
    {
     "name": "stdout",
     "output_type": "stream",
     "text": [
      "()\n",
      "<class 'tuple'>\n"
     ]
    }
   ],
   "source": [
    "a=()\n",
    "print(a)\n",
    "print(type(a))"
   ]
  },
  {
   "cell_type": "code",
   "execution_count": 30,
   "id": "9d0ecb99-a9b0-40e1-8e59-f4b6a18385d1",
   "metadata": {},
   "outputs": [
    {
     "name": "stdout",
     "output_type": "stream",
     "text": [
      "90\n"
     ]
    }
   ],
   "source": [
    "b=(23,45,34,11,12,[23,45,67,90],67)\n",
    "print(b[5][3])"
   ]
  },
  {
   "cell_type": "code",
   "execution_count": 32,
   "id": "74ae57c7-fec3-4ad2-a2c1-242918121e2d",
   "metadata": {},
   "outputs": [
    {
     "name": "stdout",
     "output_type": "stream",
     "text": [
      "hi\n"
     ]
    }
   ],
   "source": [
    "b=(12,23,23,34,44,(2,488,90,(12,\"hi\"),34),34,56,78)\n",
    "print(b[5][3][1])"
   ]
  },
  {
   "cell_type": "markdown",
   "id": "9273dd06-29ae-451c-972f-ab1221f2815b",
   "metadata": {},
   "source": [
    "### Because the tuple is immutable we need to convert in list "
   ]
  },
  {
   "cell_type": "code",
   "execution_count": 35,
   "id": "c48f8c60-a896-465a-8a67-8637fe2cd42c",
   "metadata": {},
   "outputs": [
    {
     "name": "stdout",
     "output_type": "stream",
     "text": [
      "[23, 12, 22, 34, 67, 87]\n",
      "[23, 12, 22, 'hello', 67, 87]\n",
      "(23, 12, 22, 'hello', 67, 87)\n"
     ]
    }
   ],
   "source": [
    "a=(23,12,22,34,67,87)\n",
    "b=list(a)\n",
    "print(b)\n",
    "b[3]=\"hello\"\n",
    "print(b)\n",
    "a=tuple(b)\n",
    "print(a)"
   ]
  },
  {
   "cell_type": "markdown",
   "id": "612f5481-a7c6-4d76-a189-b35384562fbe",
   "metadata": {},
   "source": [
    "## Count method"
   ]
  },
  {
   "cell_type": "code",
   "execution_count": 37,
   "id": "feb4fe88-d424-4a11-961c-9d2dc219e17b",
   "metadata": {},
   "outputs": [
    {
     "name": "stdout",
     "output_type": "stream",
     "text": [
      "3\n",
      "1\n",
      "87\n",
      "12\n"
     ]
    }
   ],
   "source": [
    "a=(23,12,22,34,67,87,23,23)\n",
    "print(a.count(23))\n",
    "print(a.count(12))\n",
    "print(max(a))\n",
    "print(min(a))"
   ]
  },
  {
   "cell_type": "code",
   "execution_count": 38,
   "id": "504f1da3-763c-4319-a47c-65811221ab8d",
   "metadata": {},
   "outputs": [
    {
     "ename": "AttributeError",
     "evalue": "'tuple' object has no attribute 'sort'",
     "output_type": "error",
     "traceback": [
      "\u001b[1;31m---------------------------------------------------------------------------\u001b[0m",
      "\u001b[1;31mAttributeError\u001b[0m                            Traceback (most recent call last)",
      "Cell \u001b[1;32mIn[38], line 2\u001b[0m\n\u001b[0;32m      1\u001b[0m a\u001b[38;5;241m=\u001b[39m(\u001b[38;5;241m23\u001b[39m,\u001b[38;5;241m12\u001b[39m,\u001b[38;5;241m22\u001b[39m,\u001b[38;5;241m34\u001b[39m,\u001b[38;5;241m67\u001b[39m,\u001b[38;5;241m87\u001b[39m,\u001b[38;5;241m23\u001b[39m,\u001b[38;5;241m23\u001b[39m)\n\u001b[1;32m----> 2\u001b[0m \u001b[38;5;28mprint\u001b[39m(a\u001b[38;5;241m.\u001b[39msort())\n",
      "\u001b[1;31mAttributeError\u001b[0m: 'tuple' object has no attribute 'sort'"
     ]
    }
   ],
   "source": [
    "a=(23,12,22,34,67,87,23,23)\n",
    "print(a.sort()) # becuase it tuple and immutable "
   ]
  },
  {
   "cell_type": "code",
   "execution_count": 39,
   "id": "94afe3cc-d548-46df-83b1-2b32b20dd9b0",
   "metadata": {},
   "outputs": [
    {
     "name": "stdout",
     "output_type": "stream",
     "text": [
      "[12, 22, 23, 23, 23, 34, 67, 87]\n"
     ]
    }
   ],
   "source": [
    "a=(23,12,22,34,67,87,23,23)\n",
    "print(sorted(a))"
   ]
  },
  {
   "cell_type": "markdown",
   "id": "cc66175f-7c2b-41c9-847d-51dbaeb0f80f",
   "metadata": {},
   "source": [
    "# Set:"
   ]
  },
  {
   "cell_type": "markdown",
   "id": "fbb9cc8a-f9ff-405d-93cd-01d25f83dfe0",
   "metadata": {},
   "source": [
    "#### mutable data type\n",
    "#### it is unorders and unindexed\n",
    "#### enclosed with {}\n",
    "#### it is a collection values\n"
   ]
  },
  {
   "cell_type": "code",
   "execution_count": 40,
   "id": "7ecba0b0-dea7-4317-988a-a085e7dd1f57",
   "metadata": {},
   "outputs": [
    {
     "name": "stdout",
     "output_type": "stream",
     "text": [
      "<class 'set'>\n",
      "{32, 1, 23, 89, 90, 76, 45}\n"
     ]
    }
   ],
   "source": [
    "a={1,23,45,32,76,89,90}\n",
    "print(type(a))\n",
    "print(a)"
   ]
  },
  {
   "cell_type": "markdown",
   "id": "61f38016-15a8-4ce2-b82e-18ece28327bd",
   "metadata": {},
   "source": [
    "## add method"
   ]
  },
  {
   "cell_type": "code",
   "execution_count": 43,
   "id": "8961c505-d8aa-4deb-bcdd-3b38749b3a2a",
   "metadata": {},
   "outputs": [
    {
     "name": "stdout",
     "output_type": "stream",
     "text": [
      "{32, 1, 7, 8, 9, 76, 45, 23, 89, 90}\n"
     ]
    }
   ],
   "source": [
    "a = {1,23,45,32,76,89,90}\n",
    "a.update({9,8,7})\n",
    "print(a)"
   ]
  },
  {
   "cell_type": "markdown",
   "id": "c5a53cdb-e7e8-453a-9656-7a64439075a4",
   "metadata": {},
   "source": [
    "## Discard Method"
   ]
  },
  {
   "cell_type": "code",
   "execution_count": 44,
   "id": "ee17ecaa-567e-4fef-9c77-fef14f9f7c94",
   "metadata": {},
   "outputs": [
    {
     "name": "stdout",
     "output_type": "stream",
     "text": [
      "{32, 1, 23, 89, 76, 45}\n",
      "{32, 1, 23, 89, 76, 45}\n"
     ]
    }
   ],
   "source": [
    "a = {1,23,45,32,76,89,90}\n",
    "a.discard(90)\n",
    "print(a)\n",
    "a.discard(100)\n",
    "print(a)"
   ]
  },
  {
   "cell_type": "markdown",
   "id": "15c8eacc-543c-4eec-a02f-1cc3c40bcfc7",
   "metadata": {},
   "source": [
    "## Pop"
   ]
  },
  {
   "cell_type": "code",
   "execution_count": 45,
   "id": "c77b0076-b6f5-4375-9cce-fc014bda79eb",
   "metadata": {},
   "outputs": [
    {
     "name": "stdout",
     "output_type": "stream",
     "text": [
      "32\n",
      "{1, 23, 89, 90, 76, 45}\n"
     ]
    }
   ],
   "source": [
    "a={1,23,45,32,76,89,90}\n",
    "print(a.pop())\n",
    "print(a)"
   ]
  },
  {
   "cell_type": "code",
   "execution_count": null,
   "id": "b61893f6-d331-4b43-831f-d196df66f27c",
   "metadata": {},
   "outputs": [],
   "source": []
  },
  {
   "cell_type": "code",
   "execution_count": 48,
   "id": "4b620439-8101-4be7-8430-cd5385ff5ad2",
   "metadata": {},
   "outputs": [
    {
     "name": "stdout",
     "output_type": "stream",
     "text": [
      "[11, 11, 12, 12, 23, 23, 33, 33, 45]\n",
      "{33, 11, 12, 45, 23}\n",
      "[33, 11, 12, 45, 23]\n"
     ]
    }
   ],
   "source": [
    "a=[11,11,12,12,23,23,33,33,45]\n",
    "print(a)\n",
    "b=set(a)\n",
    "\n",
    "print(b)\n",
    "a=list(b)\n",
    "print(a)"
   ]
  },
  {
   "cell_type": "markdown",
   "id": "fcd90432-0daf-4052-940d-8ad7d1d5dd72",
   "metadata": {},
   "source": [
    "## Union"
   ]
  },
  {
   "cell_type": "code",
   "execution_count": 49,
   "id": "749cf468-68e9-4ccf-8139-4394ced8d00b",
   "metadata": {},
   "outputs": [
    {
     "name": "stdout",
     "output_type": "stream",
     "text": [
      "{1, 2, 3, 4, 5, 6, 7, 8, 9}\n"
     ]
    }
   ],
   "source": [
    "a={1,2,3,4,5,6}\n",
    "b={4,5,6,7,8,9}\n",
    "print(a.union(b))"
   ]
  },
  {
   "cell_type": "markdown",
   "id": "b4a35355-5ffc-4589-99f7-8a7835bba4c4",
   "metadata": {},
   "source": [
    "## Intersection "
   ]
  },
  {
   "cell_type": "code",
   "execution_count": 50,
   "id": "4a6b1f22-f53e-40b0-834d-59748e7ce967",
   "metadata": {},
   "outputs": [
    {
     "name": "stdout",
     "output_type": "stream",
     "text": [
      "{4, 5, 6}\n"
     ]
    }
   ],
   "source": [
    "print(a.intersection(b))"
   ]
  },
  {
   "cell_type": "markdown",
   "id": "c6349059-4369-43cb-b154-9866e9c69197",
   "metadata": {},
   "source": [
    "## Difference"
   ]
  },
  {
   "cell_type": "code",
   "execution_count": 52,
   "id": "5edefea6-7afa-4b4f-a754-8980f11e11dd",
   "metadata": {},
   "outputs": [
    {
     "name": "stdout",
     "output_type": "stream",
     "text": [
      "{1, 2, 3}\n"
     ]
    }
   ],
   "source": [
    "print(a.difference(b)) # a-b"
   ]
  },
  {
   "cell_type": "code",
   "execution_count": null,
   "id": "d48ba428-7e22-4369-b9ca-ff6e83766a93",
   "metadata": {},
   "outputs": [],
   "source": []
  }
 ],
 "metadata": {
  "kernelspec": {
   "display_name": "Python 3 (ipykernel)",
   "language": "python",
   "name": "python3"
  },
  "language_info": {
   "codemirror_mode": {
    "name": "ipython",
    "version": 3
   },
   "file_extension": ".py",
   "mimetype": "text/x-python",
   "name": "python",
   "nbconvert_exporter": "python",
   "pygments_lexer": "ipython3",
   "version": "3.12.7"
  }
 },
 "nbformat": 4,
 "nbformat_minor": 5
}
