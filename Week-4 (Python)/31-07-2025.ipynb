{
 "cells": [
  {
   "cell_type": "markdown",
   "id": "1abd409d-06bf-4b64-b516-074468200b43",
   "metadata": {},
   "source": [
    "### Nested loop(For loop in this scene)"
   ]
  },
  {
   "cell_type": "code",
   "execution_count": 15,
   "id": "97736ea2-228e-4e23-b5bd-6c047c50bb16",
   "metadata": {},
   "outputs": [
    {
     "name": "stdout",
     "output_type": "stream",
     "text": [
      "1 2 3 4 \n",
      "2 4 6 8 \n",
      "3 6 9 12 \n",
      "4 8 12 16 \n"
     ]
    }
   ],
   "source": [
    "for i in range(1,5):\n",
    "    for j in range(1,5):\n",
    "        print(i*j,end=\" \")\n",
    "    print()"
   ]
  },
  {
   "cell_type": "code",
   "execution_count": 14,
   "id": "0eb08b7c-aa5a-4350-acac-39ef46414354",
   "metadata": {},
   "outputs": [
    {
     "name": "stdout",
     "output_type": "stream",
     "text": [
      "1\n",
      "2\n",
      "3\n",
      "4\n",
      "i= 1 , j= 4\n",
      "2\n",
      "4\n",
      "6\n",
      "8\n",
      "i= 2 , j= 4\n",
      "3\n",
      "6\n",
      "9\n",
      "12\n",
      "i= 3 , j= 4\n",
      "4\n",
      "8\n",
      "12\n",
      "16\n",
      "i= 4 , j= 4\n"
     ]
    }
   ],
   "source": [
    "for i in range(1,5):\n",
    "    for j in range(1,5):\n",
    "        print(i*j)\n",
    "    print(\"i=\",i,\",\",\"j=\",j)"
   ]
  },
  {
   "cell_type": "code",
   "execution_count": 5,
   "id": "f3702388-a821-48fe-ac99-3fb81aec7781",
   "metadata": {},
   "outputs": [
    {
     "name": "stdout",
     "output_type": "stream",
     "text": [
      "* \n",
      "* * \n",
      "* * * \n",
      "* * * * \n"
     ]
    }
   ],
   "source": [
    "### TASK\n",
    "\n",
    "for i in range(1,5):\n",
    "    for j in range(1,i+1):\n",
    "        print(\"*\",end=\" \")\n",
    "    print()"
   ]
  },
  {
   "cell_type": "code",
   "execution_count": 6,
   "id": "3a5b38d8-6f76-421a-bc6c-95d86f3dca3a",
   "metadata": {},
   "outputs": [
    {
     "name": "stdout",
     "output_type": "stream",
     "text": [
      "* * * * \n",
      "* * * \n",
      "* * \n",
      "* \n"
     ]
    }
   ],
   "source": [
    "for i in range(1,5):\n",
    "    for j in range(5-i): #i=1\n",
    "        print(\"*\",end=\" \")\n",
    "    print()"
   ]
  },
  {
   "cell_type": "code",
   "execution_count": 3,
   "id": "6f7ec537-e5c5-41ca-b0c1-7a16acef93bc",
   "metadata": {
    "scrolled": true
   },
   "outputs": [
    {
     "name": "stdout",
     "output_type": "stream",
     "text": [
      "* \n",
      "\n",
      "* * * \n",
      "\n",
      "* * * * * \n",
      "\n",
      "* * * * * * * \n",
      "\n",
      "* * * * * * * * * \n"
     ]
    }
   ],
   "source": [
    "### TASK\n",
    "\n",
    "for i in range(1,10):\n",
    "    for j in range(1,i+1):\n",
    "        if i%2==1:\n",
    "            print(\"*\",end=\" \")\n",
    "    print()"
   ]
  },
  {
   "cell_type": "code",
   "execution_count": 8,
   "id": "16e53773-19a8-4bcd-870a-50f1610374e6",
   "metadata": {},
   "outputs": [
    {
     "name": "stdout",
     "output_type": "stream",
     "text": [
      "      * \n",
      "    * * * \n",
      "  * * * * * \n",
      "* * * * * * * \n"
     ]
    }
   ],
   "source": [
    "for i in range(1,5):\n",
    "    for j in range(4-i):\n",
    "        print(\" \",end=\" \")\n",
    "    for k in range(2*i-1):\n",
    "        print(\"*\",end=\" \")\n",
    "    print()"
   ]
  },
  {
   "cell_type": "markdown",
   "id": "ec02535d-18f8-4155-b0e7-8cf701228048",
   "metadata": {},
   "source": [
    "# Python modules"
   ]
  },
  {
   "cell_type": "code",
   "execution_count": 11,
   "id": "5c83ddb9-0f6f-4f2c-bc33-03297c30f169",
   "metadata": {},
   "outputs": [
    {
     "data": {
      "text/plain": [
       "'C:\\\\ProgramData\\\\anaconda3\\\\Lib\\\\datetime.py'"
      ]
     },
     "execution_count": 11,
     "metadata": {},
     "output_type": "execute_result"
    }
   ],
   "source": [
    "import datetime\n",
    "datetime.__file__"
   ]
  },
  {
   "cell_type": "code",
   "execution_count": 19,
   "id": "e6c79fac-3098-435b-a111-4ea9ca6e219e",
   "metadata": {},
   "outputs": [
    {
     "data": {
      "text/plain": [
       "datetime.date(2025, 7, 31)"
      ]
     },
     "execution_count": 19,
     "metadata": {},
     "output_type": "execute_result"
    }
   ],
   "source": [
    "from datetime import date\n",
    "t= date.today()\n",
    "t"
   ]
  },
  {
   "cell_type": "code",
   "execution_count": 13,
   "id": "60a8f368-9f15-406a-a415-812a162cb91b",
   "metadata": {},
   "outputs": [
    {
     "data": {
      "text/plain": [
       "2025"
      ]
     },
     "execution_count": 13,
     "metadata": {},
     "output_type": "execute_result"
    }
   ],
   "source": [
    "t.year"
   ]
  },
  {
   "cell_type": "code",
   "execution_count": 14,
   "id": "fbf83b03-b3df-4579-af12-1a4466905e9d",
   "metadata": {},
   "outputs": [
    {
     "data": {
      "text/plain": [
       "datetime.datetime(2025, 7, 31, 9, 44, 43, 105227)"
      ]
     },
     "execution_count": 14,
     "metadata": {},
     "output_type": "execute_result"
    }
   ],
   "source": [
    "from datetime import datetime as dt\n",
    "t1=dt.now()\n",
    "t1"
   ]
  },
  {
   "cell_type": "code",
   "execution_count": 15,
   "id": "96ebcc64-fe91-463d-9e0f-47df2cddea39",
   "metadata": {},
   "outputs": [
    {
     "data": {
      "text/plain": [
       "43"
      ]
     },
     "execution_count": 15,
     "metadata": {},
     "output_type": "execute_result"
    }
   ],
   "source": [
    "t1.second"
   ]
  },
  {
   "cell_type": "code",
   "execution_count": 16,
   "id": "a604db3b-b1e7-42c0-8c3d-93109b0faf06",
   "metadata": {},
   "outputs": [
    {
     "data": {
      "text/plain": [
       "105227"
      ]
     },
     "execution_count": 16,
     "metadata": {},
     "output_type": "execute_result"
    }
   ],
   "source": [
    "t1.microsecond"
   ]
  },
  {
   "cell_type": "code",
   "execution_count": 17,
   "id": "bee845a9-1941-4cf7-9a4f-8382a5e88622",
   "metadata": {},
   "outputs": [
    {
     "name": "stdout",
     "output_type": "stream",
     "text": [
      "2027-12-28\n"
     ]
    }
   ],
   "source": [
    "from datetime import date, timedelta\n",
    "current_date = date.today()\n",
    "future_date= current_date + timedelta(days = 880)\n",
    "print(future_date)"
   ]
  },
  {
   "cell_type": "markdown",
   "id": "2b6a2827-58f0-42e2-b74f-498b00d8d826",
   "metadata": {},
   "source": [
    "# Function "
   ]
  },
  {
   "cell_type": "markdown",
   "id": "1d7a0dca-bb48-43b6-ad19-2731f60812ba",
   "metadata": {},
   "source": [
    "## User defined Funtion"
   ]
  },
  {
   "cell_type": "code",
   "execution_count": 23,
   "id": "c233909e-6718-4c2a-966a-b77eaddb53da",
   "metadata": {},
   "outputs": [],
   "source": [
    "def hello():\n",
    "    print(\"Hello everyone\")"
   ]
  },
  {
   "cell_type": "code",
   "execution_count": 24,
   "id": "29a78646-49d2-4dd8-a7ed-a16b19c93339",
   "metadata": {},
   "outputs": [
    {
     "name": "stdout",
     "output_type": "stream",
     "text": [
      "Hello everyone\n"
     ]
    }
   ],
   "source": [
    "hello()"
   ]
  },
  {
   "cell_type": "markdown",
   "id": "235fcfc6-c32e-4d44-b779-dbf4e85e4ad9",
   "metadata": {},
   "source": [
    "## Built-in Functions "
   ]
  },
  {
   "cell_type": "code",
   "execution_count": 25,
   "id": "78ad6c73-55fc-44db-a7a5-4ccc70354770",
   "metadata": {},
   "outputs": [],
   "source": [
    "def add(a,b):\n",
    "    print(a+b)"
   ]
  },
  {
   "cell_type": "code",
   "execution_count": 27,
   "id": "caab91a6-4462-4b94-8639-b5b316d9a650",
   "metadata": {},
   "outputs": [
    {
     "name": "stdout",
     "output_type": "stream",
     "text": [
      "6\n"
     ]
    }
   ],
   "source": [
    "add(2,4)"
   ]
  },
  {
   "cell_type": "code",
   "execution_count": 28,
   "id": "9418997d-d539-4034-8b88-2a21f13ba29c",
   "metadata": {},
   "outputs": [],
   "source": [
    "def area_of_circle(pi,r):\n",
    "    area= pi*(r**2)\n",
    "    print(area)"
   ]
  },
  {
   "cell_type": "code",
   "execution_count": 29,
   "id": "5123ee53-1bd6-4dce-9808-8f2563e03666",
   "metadata": {},
   "outputs": [
    {
     "name": "stdout",
     "output_type": "stream",
     "text": [
      "113.04\n"
     ]
    }
   ],
   "source": [
    "area_of_circle(3.14,6)"
   ]
  },
  {
   "cell_type": "code",
   "execution_count": 31,
   "id": "1b3c2531-fe1e-4522-b653-8048cff5b010",
   "metadata": {},
   "outputs": [
    {
     "name": "stdout",
     "output_type": "stream",
     "text": [
      "15\n"
     ]
    }
   ],
   "source": [
    "def add(a,b=5): # Default arguments\n",
    "    print(a*b)\n",
    "add(3)"
   ]
  },
  {
   "cell_type": "markdown",
   "id": "906df69b-764c-417c-a887-1d31acbe6eda",
   "metadata": {},
   "source": [
    "## Lambda Fn"
   ]
  },
  {
   "cell_type": "markdown",
   "id": "37d8b732-8509-4823-b4cf-49d5f1b5c7db",
   "metadata": {},
   "source": [
    "#### 1. Lambda functions are often called as Anonymous Function \n",
    "#### 2. it can have any no. of argument but only one expression. the expression is evalated and retured.\n",
    "#### 3. We use lambda funtion"
   ]
  },
  {
   "cell_type": "code",
   "execution_count": 32,
   "id": "61f2f217-12d9-4e4b-9749-7253c87a2262",
   "metadata": {},
   "outputs": [
    {
     "name": "stdout",
     "output_type": "stream",
     "text": [
      "30\n"
     ]
    }
   ],
   "source": [
    "add = lambda a: a+10\n",
    "print(add(20))"
   ]
  },
  {
   "cell_type": "code",
   "execution_count": 33,
   "id": "8de63283-08a2-45bc-b83b-ab9f4aaac0d3",
   "metadata": {},
   "outputs": [
    {
     "name": "stdout",
     "output_type": "stream",
     "text": [
      "10\n"
     ]
    }
   ],
   "source": [
    "mul= lambda a,b : a*b\n",
    "print(mul(2,5))"
   ]
  },
  {
   "cell_type": "markdown",
   "id": "801f1a1b-0ef6-4e45-bf9d-946e54d3a3c6",
   "metadata": {},
   "source": [
    "# Filter"
   ]
  },
  {
   "cell_type": "code",
   "execution_count": 35,
   "id": "f8d4d2a0-fc80-4b26-b309-f5ada4913c34",
   "metadata": {},
   "outputs": [
    {
     "name": "stdout",
     "output_type": "stream",
     "text": [
      "[2, 4, 6, 8]\n"
     ]
    }
   ],
   "source": [
    "a= [1,2,3,4,5,6,7,8,9]\n",
    "even = filter(lambda a: a%2==0,a)\n",
    "print(list(even))"
   ]
  },
  {
   "cell_type": "code",
   "execution_count": 36,
   "id": "77f4f8fa-ea3f-48bf-bfe3-0a054e417c9c",
   "metadata": {},
   "outputs": [
    {
     "name": "stdout",
     "output_type": "stream",
     "text": [
      "[1, 3, 5, 7, 9]\n"
     ]
    }
   ],
   "source": [
    "a= [1,2,3,4,5,6,7,8,9]\n",
    "even = filter(lambda a: a%2!=0,a)\n",
    "print(list(even))"
   ]
  },
  {
   "cell_type": "code",
   "execution_count": 39,
   "id": "f6fc4941-6097-43c3-976b-a84496e41d5f",
   "metadata": {},
   "outputs": [
    {
     "name": "stdout",
     "output_type": "stream",
     "text": [
      "[2, 5, 6, 7, 66, 32, 9]\n"
     ]
    }
   ],
   "source": [
    "b=[2,5,6,7,-56,66,-3,-44,32,9]\n",
    "positive = list(filter(lambda b: b>=0, b))\n",
    "print(positive)"
   ]
  },
  {
   "cell_type": "markdown",
   "id": "0f483b0a-5516-452a-bfb8-40c0b81d3e5a",
   "metadata": {},
   "source": [
    "## Map Function"
   ]
  },
  {
   "cell_type": "code",
   "execution_count": 40,
   "id": "ae246376-00c1-4f49-87b3-2229df459091",
   "metadata": {},
   "outputs": [
    {
     "name": "stdout",
     "output_type": "stream",
     "text": [
      "(1, 4, 9, 16, 25, 36, 49, 64, 81)\n"
     ]
    }
   ],
   "source": [
    "a= [1,2,3,4,5,6,7,8,9]\n",
    "square= map(lambda a: a**2,a)\n",
    "print(tuple(square))"
   ]
  },
  {
   "cell_type": "markdown",
   "id": "3a490cd0-fa2a-4fef-88ec-05597693a155",
   "metadata": {},
   "source": [
    "#### Print vs Return(return is like print with break statement)\n",
    "#### print shows output; return sends data back from a function."
   ]
  },
  {
   "cell_type": "markdown",
   "id": "06197487-20eb-4044-a57c-43b2674bb251",
   "metadata": {},
   "source": [
    "## Reduce"
   ]
  },
  {
   "cell_type": "code",
   "execution_count": 42,
   "id": "1ae48633-e882-4bc8-9326-5194dc1b1548",
   "metadata": {},
   "outputs": [
    {
     "name": "stdout",
     "output_type": "stream",
     "text": [
      "28\n"
     ]
    }
   ],
   "source": [
    "import functools\n",
    "a=[1,2,3,4,5,6,7]\n",
    "print(functools.reduce(lambda a,b : a+b,a))"
   ]
  },
  {
   "cell_type": "code",
   "execution_count": null,
   "id": "06e0aec5-3651-48c0-ab7e-83cc444c12ad",
   "metadata": {},
   "outputs": [],
   "source": []
  }
 ],
 "metadata": {
  "kernelspec": {
   "display_name": "Python 3 (ipykernel)",
   "language": "python",
   "name": "python3"
  },
  "language_info": {
   "codemirror_mode": {
    "name": "ipython",
    "version": 3
   },
   "file_extension": ".py",
   "mimetype": "text/x-python",
   "name": "python",
   "nbconvert_exporter": "python",
   "pygments_lexer": "ipython3",
   "version": "3.12.7"
  }
 },
 "nbformat": 4,
 "nbformat_minor": 5
}
