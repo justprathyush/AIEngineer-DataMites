{
 "cells": [
  {
   "cell_type": "markdown",
   "id": "d976be57-584c-4158-b587-f56af3588ceb",
   "metadata": {},
   "source": [
    "### add: we can add only one value to the set"
   ]
  },
  {
   "cell_type": "code",
   "execution_count": 1,
   "id": "8d064f54-c8e8-4de4-9445-b91a9b2f1d1e",
   "metadata": {},
   "outputs": [
    {
     "name": "stdout",
     "output_type": "stream",
     "text": [
      "{2, 3, 4, 5, 6, 7, 100}\n"
     ]
    }
   ],
   "source": [
    "a = {2,3,4,5,6,7}\n",
    "b={5,6,7,8,9,10}\n",
    "a.add(100)\n",
    "print(a)"
   ]
  },
  {
   "cell_type": "markdown",
   "id": "6898434f-bbc9-472a-b273-ba26d0e38c95",
   "metadata": {},
   "source": [
    "## dictionary:"
   ]
  },
  {
   "cell_type": "markdown",
   "id": "5c6899ee-ae8f-4dee-8209-d6c51258fcb8",
   "metadata": {},
   "source": [
    "### it mutable data type \n",
    "### enclosed with {}"
   ]
  },
  {
   "cell_type": "code",
   "execution_count": 3,
   "id": "7d02df5a-5d8b-4b24-9ed0-c28e76ef5327",
   "metadata": {},
   "outputs": [
    {
     "name": "stdout",
     "output_type": "stream",
     "text": [
      "<class 'dict'>\n"
     ]
    }
   ],
   "source": [
    "dic_values = {'a':\"apple\",'b':\"banana\"}\n",
    "print(type(dic_values))"
   ]
  },
  {
   "cell_type": "code",
   "execution_count": 4,
   "id": "50a670c8-6bd8-4e94-81f3-4b46e54d1dc7",
   "metadata": {},
   "outputs": [
    {
     "name": "stdout",
     "output_type": "stream",
     "text": [
      "apple\n"
     ]
    }
   ],
   "source": [
    "print(dic_values['a'])"
   ]
  },
  {
   "cell_type": "code",
   "execution_count": 5,
   "id": "4209dd78-09e1-477b-b9b5-afe278a07529",
   "metadata": {},
   "outputs": [
    {
     "name": "stdout",
     "output_type": "stream",
     "text": [
      "dict_keys(['a', 'b'])\n"
     ]
    }
   ],
   "source": [
    "print(dic_values.keys())"
   ]
  },
  {
   "cell_type": "code",
   "execution_count": 6,
   "id": "265825e2-1019-41b3-a5ee-3804c22e2037",
   "metadata": {},
   "outputs": [
    {
     "name": "stdout",
     "output_type": "stream",
     "text": [
      "dict_values(['apple', 'banana'])\n"
     ]
    }
   ],
   "source": [
    "print(dic_values.values())"
   ]
  },
  {
   "cell_type": "code",
   "execution_count": 7,
   "id": "0addd5be-4d7b-4460-b28e-f06e66ed03fa",
   "metadata": {},
   "outputs": [
    {
     "name": "stdout",
     "output_type": "stream",
     "text": [
      "dict_items([('a', 'apple'), ('b', 'banana')])\n"
     ]
    }
   ],
   "source": [
    "print(dic_values.items())"
   ]
  },
  {
   "cell_type": "markdown",
   "id": "90b67670-6646-42e9-9eed-90ce4cd356e8",
   "metadata": {},
   "source": [
    "### Nested dictionary: a dictionary within a dictionary "
   ]
  },
  {
   "cell_type": "code",
   "execution_count": 9,
   "id": "a32594c7-01ff-4c4e-92ed-8baa4f4e25b6",
   "metadata": {},
   "outputs": [
    {
     "name": "stdout",
     "output_type": "stream",
     "text": [
      "{'a': 'apple', 'b': 'banana'}\n"
     ]
    }
   ],
   "source": [
    "a={1:\"hii\",2:\"hello\",3:{'a':\"apple\",'b':\"banana\"}}\n",
    "print(a[3])"
   ]
  },
  {
   "cell_type": "code",
   "execution_count": 10,
   "id": "76bb119d-8347-4adb-a9aa-ebe23c2a52b3",
   "metadata": {},
   "outputs": [
    {
     "name": "stdout",
     "output_type": "stream",
     "text": [
      "apple\n"
     ]
    }
   ],
   "source": [
    "print(a[3]['a'])"
   ]
  },
  {
   "cell_type": "code",
   "execution_count": 13,
   "id": "97c64058-64b0-4342-8c82-8408164c052d",
   "metadata": {},
   "outputs": [
    {
     "name": "stdout",
     "output_type": "stream",
     "text": [
      "30\n"
     ]
    }
   ],
   "source": [
    "b=[2,3,4,5,6,7,[2,5,4,44,67,{1:20,2:30,3:{'a':\"hello\"}}]]\n",
    "print(b[6][5][2])"
   ]
  },
  {
   "cell_type": "code",
   "execution_count": 17,
   "id": "459a586f-1271-4eb7-ac3a-f7a6ec7aede0",
   "metadata": {},
   "outputs": [
    {
     "name": "stdout",
     "output_type": "stream",
     "text": [
      "hello\n"
     ]
    }
   ],
   "source": [
    "print(b[6][5][3]['a'])"
   ]
  },
  {
   "cell_type": "code",
   "execution_count": 22,
   "id": "5bff1489-5e65-45fb-bfff-5f57e498111d",
   "metadata": {},
   "outputs": [
    {
     "name": "stdout",
     "output_type": "stream",
     "text": [
      "java\n"
     ]
    }
   ],
   "source": [
    "a=(\"hii\",\"hello\",{ 1:20, 2:\"apple\",3:{'a':\"python\",'b':\"java\",'c':[1,2,3,4,5,5]}})\n",
    "print(a[2][3]['b'])"
   ]
  },
  {
   "cell_type": "markdown",
   "id": "3e11468b-4428-4af6-8ff7-baf4075cca95",
   "metadata": {},
   "source": [
    "## Update method "
   ]
  },
  {
   "cell_type": "code",
   "execution_count": 24,
   "id": "d388d106-4a1f-496d-bae1-775f7c8a5f8f",
   "metadata": {},
   "outputs": [
    {
     "name": "stdout",
     "output_type": "stream",
     "text": [
      "{1: 'apple', 2: 'banana', 3: 'mango'}\n",
      "{1: 'apple', 2: 'banana', 3: 'mango'}\n"
     ]
    }
   ],
   "source": [
    "a={1:\"apple\",2:\"banana\",3:\"mango\"}\n",
    "b={1:10,2:20,3:30}\n",
    "b.update(a)\n",
    "print(a)\n",
    "print(b)"
   ]
  },
  {
   "cell_type": "code",
   "execution_count": 25,
   "id": "d4385b1f-413c-4f21-be33-ce3d4aee8389",
   "metadata": {},
   "outputs": [
    {
     "name": "stdout",
     "output_type": "stream",
     "text": [
      "{1: 'apple', 2: 'python', 3: 'mango'}\n"
     ]
    }
   ],
   "source": [
    "a={1:\"apple\",2:\"banana\",3:\"mango\"}\n",
    "b={1:10,2:20,3:30}\n",
    "a[2]=\"python\"\n",
    "print(a)"
   ]
  },
  {
   "cell_type": "markdown",
   "id": "fa55d7b4-f2de-48d6-b8dc-85b0ec70d2f8",
   "metadata": {},
   "source": [
    "## Pop\n",
    "\n",
    "### pop     :is used to remove the value by using key\n",
    "### popitem : is used to remove the last item in dict"
   ]
  },
  {
   "cell_type": "code",
   "execution_count": 26,
   "id": "9da462bd-1b83-4bb4-a031-9dbeb6ad8801",
   "metadata": {},
   "outputs": [
    {
     "name": "stdout",
     "output_type": "stream",
     "text": [
      "banana\n",
      "(3, 'mango')\n",
      "{1: 'apple'}\n"
     ]
    }
   ],
   "source": [
    "a={1:\"apple\",2:\"banana\",3:\"mango\"}\n",
    "print(a.pop(2))\n",
    "print(a.popitem())\n",
    "print(a)"
   ]
  },
  {
   "cell_type": "markdown",
   "id": "539791e4-fb62-4560-bb4b-ae41a17bdbe1",
   "metadata": {},
   "source": [
    "## del and clear"
   ]
  },
  {
   "cell_type": "markdown",
   "id": "4ac3bb00-a243-4e5c-b34a-eee4fbee0ae2",
   "metadata": {},
   "source": [
    "### del"
   ]
  },
  {
   "cell_type": "code",
   "execution_count": 34,
   "id": "ef54a278-aca0-4295-b036-c8ba46aff5b0",
   "metadata": {},
   "outputs": [
    {
     "ename": "NameError",
     "evalue": "name 'a' is not defined",
     "output_type": "error",
     "traceback": [
      "\u001b[1;31m---------------------------------------------------------------------------\u001b[0m",
      "\u001b[1;31mNameError\u001b[0m                                 Traceback (most recent call last)",
      "Cell \u001b[1;32mIn[34], line 3\u001b[0m\n\u001b[0;32m      1\u001b[0m a\u001b[38;5;241m=\u001b[39m{\u001b[38;5;241m1\u001b[39m:\u001b[38;5;124m\"\u001b[39m\u001b[38;5;124mapple\u001b[39m\u001b[38;5;124m\"\u001b[39m,\u001b[38;5;241m2\u001b[39m:\u001b[38;5;124m\"\u001b[39m\u001b[38;5;124mbanana\u001b[39m\u001b[38;5;124m\"\u001b[39m,\u001b[38;5;241m3\u001b[39m:\u001b[38;5;124m\"\u001b[39m\u001b[38;5;124mmango\u001b[39m\u001b[38;5;124m\"\u001b[39m}\n\u001b[0;32m      2\u001b[0m \u001b[38;5;28;01mdel\u001b[39;00m a\n\u001b[1;32m----> 3\u001b[0m \u001b[38;5;28mprint\u001b[39m(a)\n",
      "\u001b[1;31mNameError\u001b[0m: name 'a' is not defined"
     ]
    }
   ],
   "source": [
    "a={1:\"apple\",2:\"banana\",3:\"mango\"}\n",
    "del a\n",
    "print(a)"
   ]
  },
  {
   "cell_type": "markdown",
   "id": "50d8ab53-3334-4f0b-a955-d888406896cf",
   "metadata": {},
   "source": [
    "### clear"
   ]
  },
  {
   "cell_type": "code",
   "execution_count": 35,
   "id": "3f717b87-f964-4c63-a605-22efe51e9f4b",
   "metadata": {},
   "outputs": [
    {
     "name": "stdout",
     "output_type": "stream",
     "text": [
      "{}\n"
     ]
    }
   ],
   "source": [
    "a={1:\"apple\",2:\"banana\",3:\"mango\"}\n",
    "a.clear()\n",
    "print(a)"
   ]
  },
  {
   "cell_type": "markdown",
   "id": "93dabab2-885f-4be0-9818-3ab2c86ba91f",
   "metadata": {},
   "source": [
    "## looping statements:"
   ]
  },
  {
   "cell_type": "markdown",
   "id": "4a284f52-cf1d-4681-b9cb-7f1ef7c6f7f9",
   "metadata": {},
   "source": [
    "### while loop:\n"
   ]
  },
  {
   "cell_type": "code",
   "execution_count": 1,
   "id": "e8b18707-4a9f-44a3-8947-cffe1424559a",
   "metadata": {},
   "outputs": [
    {
     "name": "stdout",
     "output_type": "stream",
     "text": [
      "10\n",
      "9\n",
      "8\n",
      "7\n",
      "6\n",
      "5\n",
      "4\n",
      "3\n",
      "2\n",
      "1\n"
     ]
    }
   ],
   "source": [
    "a=10\n",
    "while a>0:\n",
    "    print(a)\n",
    "    a=a-1"
   ]
  },
  {
   "cell_type": "code",
   "execution_count": 4,
   "id": "970464f8-e330-4255-82bf-d6db7938962d",
   "metadata": {},
   "outputs": [
    {
     "name": "stdout",
     "output_type": "stream",
     "text": [
      "0\n",
      "2\n",
      "4\n",
      "6\n",
      "8\n",
      "10\n"
     ]
    }
   ],
   "source": [
    "a=0\n",
    "while a<=10:\n",
    "    print(a)\n",
    "    a+=2"
   ]
  },
  {
   "cell_type": "markdown",
   "id": "eb893a78-ecb6-4541-8473-32d00d258c0e",
   "metadata": {},
   "source": [
    "### while loop using break statement"
   ]
  },
  {
   "cell_type": "code",
   "execution_count": 8,
   "id": "7a73714a-4b47-40a3-9eb6-1f15a7c7a45c",
   "metadata": {},
   "outputs": [
    {
     "name": "stdout",
     "output_type": "stream",
     "text": [
      "the value of a is 0\n",
      "the value of a is 2\n",
      "the value of a is 4\n"
     ]
    }
   ],
   "source": [
    "a=0\n",
    "while a<10:\n",
    "    print(\"the value of a is\",a)\n",
    "    a=a+2\n",
    "    if a==6:\n",
    "        break  # it terminates the loop"
   ]
  },
  {
   "cell_type": "code",
   "execution_count": null,
   "id": "10db80f4-3b36-4f42-9c06-0aadffe67aa8",
   "metadata": {},
   "outputs": [],
   "source": []
  },
  {
   "cell_type": "code",
   "execution_count": 16,
   "id": "925af1fb-a643-4915-bd93-98b5b0242e92",
   "metadata": {},
   "outputs": [
    {
     "name": "stdin",
     "output_type": "stream",
     "text": [
      "enter any value: 5\n"
     ]
    },
    {
     "name": "stdout",
     "output_type": "stream",
     "text": [
      "5\n",
      "4\n",
      "3\n",
      "2\n",
      "1\n",
      "The total is : 15\n"
     ]
    }
   ],
   "source": [
    "n=int(input(\"enter any value:\"))\n",
    "total=0\n",
    "\n",
    "while n>=1:\n",
    "    print(n)\n",
    "    total=total+n\n",
    "    n=n-1\n",
    "    \n",
    "print(\"The total is :\",total)"
   ]
  },
  {
   "cell_type": "code",
   "execution_count": null,
   "id": "44260d97-3f9f-4e5a-9259-bae6894aeb34",
   "metadata": {},
   "outputs": [],
   "source": []
  },
  {
   "cell_type": "markdown",
   "id": "1eb71084-d07a-410a-b300-4e64947ce092",
   "metadata": {},
   "source": [
    "### for loop:"
   ]
  },
  {
   "cell_type": "markdown",
   "id": "de7813ec-92dd-491e-a456-249b74bc09f1",
   "metadata": {},
   "source": [
    "## List comprehension: it offers the shortest syntax"
   ]
  },
  {
   "cell_type": "code",
   "execution_count": null,
   "id": "e617149a-ed6c-4df6-b1a2-fb9ec38007bc",
   "metadata": {},
   "outputs": [],
   "source": [
    "a=[1,2,3,4,5,6,7,8,9]\n",
    "b=[]"
   ]
  }
 ],
 "metadata": {
  "kernelspec": {
   "display_name": "Python 3 (ipykernel)",
   "language": "python",
   "name": "python3"
  },
  "language_info": {
   "codemirror_mode": {
    "name": "ipython",
    "version": 3
   },
   "file_extension": ".py",
   "mimetype": "text/x-python",
   "name": "python",
   "nbconvert_exporter": "python",
   "pygments_lexer": "ipython3",
   "version": "3.12.7"
  }
 },
 "nbformat": 4,
 "nbformat_minor": 5
}
