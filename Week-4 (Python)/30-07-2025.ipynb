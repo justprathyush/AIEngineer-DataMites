{
 "cells": [
  {
   "cell_type": "markdown",
   "id": "93dabab2-885f-4be0-9818-3ab2c86ba91f",
   "metadata": {},
   "source": [
    "## looping statements:"
   ]
  },
  {
   "cell_type": "markdown",
   "id": "4a284f52-cf1d-4681-b9cb-7f1ef7c6f7f9",
   "metadata": {},
   "source": [
    "### while loop:\n"
   ]
  },
  {
   "cell_type": "code",
   "execution_count": 1,
   "id": "e8b18707-4a9f-44a3-8947-cffe1424559a",
   "metadata": {},
   "outputs": [
    {
     "name": "stdout",
     "output_type": "stream",
     "text": [
      "10\n",
      "9\n",
      "8\n",
      "7\n",
      "6\n",
      "5\n",
      "4\n",
      "3\n",
      "2\n",
      "1\n"
     ]
    }
   ],
   "source": [
    "a=10\n",
    "while a>0:\n",
    "    print(a)\n",
    "    a=a-1"
   ]
  },
  {
   "cell_type": "code",
   "execution_count": 2,
   "id": "970464f8-e330-4255-82bf-d6db7938962d",
   "metadata": {},
   "outputs": [
    {
     "name": "stdout",
     "output_type": "stream",
     "text": [
      "0\n",
      "2\n",
      "4\n",
      "6\n",
      "8\n",
      "10\n"
     ]
    }
   ],
   "source": [
    "a=0\n",
    "while a<=10:\n",
    "    print(a)\n",
    "    a+=2"
   ]
  },
  {
   "cell_type": "markdown",
   "id": "eb893a78-ecb6-4541-8473-32d00d258c0e",
   "metadata": {},
   "source": [
    "### while loop using break statement"
   ]
  },
  {
   "cell_type": "code",
   "execution_count": 3,
   "id": "7a73714a-4b47-40a3-9eb6-1f15a7c7a45c",
   "metadata": {},
   "outputs": [
    {
     "name": "stdout",
     "output_type": "stream",
     "text": [
      "the value of a is 0\n",
      "the value of a is 2\n",
      "the value of a is 4\n"
     ]
    }
   ],
   "source": [
    "a=0\n",
    "while a<10:\n",
    "    print(\"the value of a is\",a)\n",
    "    a=a+2\n",
    "    if a==6:\n",
    "        break  # it terminates the loop"
   ]
  },
  {
   "cell_type": "code",
   "execution_count": null,
   "id": "10db80f4-3b36-4f42-9c06-0aadffe67aa8",
   "metadata": {},
   "outputs": [],
   "source": []
  },
  {
   "cell_type": "code",
   "execution_count": 4,
   "id": "925af1fb-a643-4915-bd93-98b5b0242e92",
   "metadata": {},
   "outputs": [
    {
     "name": "stdin",
     "output_type": "stream",
     "text": [
      "enter any value: 5\n"
     ]
    },
    {
     "name": "stdout",
     "output_type": "stream",
     "text": [
      "5\n",
      "4\n",
      "3\n",
      "2\n",
      "1\n",
      "The total is : 15\n"
     ]
    }
   ],
   "source": [
    "n=int(input(\"enter any value:\"))\n",
    "total=0\n",
    "\n",
    "while n>=1:\n",
    "    print(n)\n",
    "    total=total+n\n",
    "    n=n-1\n",
    "    \n",
    "print(\"The total is :\",total)"
   ]
  },
  {
   "cell_type": "code",
   "execution_count": null,
   "id": "44260d97-3f9f-4e5a-9259-bae6894aeb34",
   "metadata": {},
   "outputs": [],
   "source": []
  },
  {
   "cell_type": "markdown",
   "id": "352ddee5-5e53-48c2-9013-7649f634d15a",
   "metadata": {},
   "source": [
    "### while loop with continue statement"
   ]
  },
  {
   "cell_type": "markdown",
   "id": "6da405f6-24a6-46da-96e8-089d1d71c9cf",
   "metadata": {},
   "source": [
    "#### the continue statements will skip the rest of line at the continue iteration from the top afterward."
   ]
  },
  {
   "cell_type": "code",
   "execution_count": 1,
   "id": "73d2653d-a911-433a-b780-75a7229e4f9d",
   "metadata": {},
   "outputs": [
    {
     "name": "stdout",
     "output_type": "stream",
     "text": [
      "2\n",
      "4\n",
      "6\n",
      "8\n",
      "12\n",
      "14\n",
      "16\n"
     ]
    }
   ],
   "source": [
    "a=0\n",
    "while a<15:\n",
    "    a=a+2\n",
    "    if a==10:\n",
    "        continue\n",
    "    print(a)"
   ]
  },
  {
   "cell_type": "markdown",
   "id": "1eb71084-d07a-410a-b300-4e64947ce092",
   "metadata": {},
   "source": [
    "### for loop:"
   ]
  },
  {
   "cell_type": "code",
   "execution_count": 5,
   "id": "fbc51e3a-3e29-4c63-a848-f826f7754c59",
   "metadata": {},
   "outputs": [
    {
     "name": "stdout",
     "output_type": "stream",
     "text": [
      "2\n",
      "5\n",
      "6\n",
      "3\n"
     ]
    }
   ],
   "source": [
    "a = [2,5,6,3]\n",
    "for i in a:\n",
    "    print(i)"
   ]
  },
  {
   "cell_type": "code",
   "execution_count": 2,
   "id": "f9afa94e-bf6c-4fdb-a892-12daa57d0ebf",
   "metadata": {},
   "outputs": [
    {
     "name": "stdout",
     "output_type": "stream",
     "text": [
      "1\n",
      "2\n",
      "3\n",
      "4\n",
      "5\n",
      "6\n",
      "7\n",
      "8\n",
      "9\n"
     ]
    }
   ],
   "source": [
    "#range\n",
    "for i in range(1,10):\n",
    "    print(i)"
   ]
  },
  {
   "cell_type": "code",
   "execution_count": 3,
   "id": "b2081667-ac07-4ff3-b776-281b4ccb2a65",
   "metadata": {},
   "outputs": [
    {
     "name": "stdout",
     "output_type": "stream",
     "text": [
      "1\n",
      "2\n",
      "3\n",
      "4\n",
      "5\n"
     ]
    }
   ],
   "source": [
    "#range\n",
    "for i in range(1,10):\n",
    "    print(i)\n",
    "    if i==5:\n",
    "        break"
   ]
  },
  {
   "cell_type": "markdown",
   "id": "28aabd55-2174-4dee-b5cd-784d8c43940a",
   "metadata": {},
   "source": [
    "### For else"
   ]
  },
  {
   "cell_type": "code",
   "execution_count": 7,
   "id": "829e0758-6978-4e45-87ca-2a3c1933b500",
   "metadata": {},
   "outputs": [
    {
     "name": "stdout",
     "output_type": "stream",
     "text": [
      "1\n",
      "2\n",
      "3\n",
      "4\n",
      "5\n"
     ]
    }
   ],
   "source": [
    "for i in range(1,10):\n",
    "    print(i)\n",
    "    if i==5:\n",
    "        break\n",
    "else:\n",
    "    print(\"for loop is executed successfully\")"
   ]
  },
  {
   "cell_type": "markdown",
   "id": "1abd409d-06bf-4b64-b516-074468200b43",
   "metadata": {},
   "source": [
    "### Nested loop(For loop in this scene)"
   ]
  },
  {
   "cell_type": "code",
   "execution_count": 15,
   "id": "97736ea2-228e-4e23-b5bd-6c047c50bb16",
   "metadata": {},
   "outputs": [
    {
     "name": "stdout",
     "output_type": "stream",
     "text": [
      "1 2 3 4 \n",
      "2 4 6 8 \n",
      "3 6 9 12 \n",
      "4 8 12 16 \n"
     ]
    }
   ],
   "source": [
    "for i in range(1,5):\n",
    "    for j in range(1,5):\n",
    "        print(i*j,end=\" \")\n",
    "    print()"
   ]
  },
  {
   "cell_type": "code",
   "execution_count": 14,
   "id": "0eb08b7c-aa5a-4350-acac-39ef46414354",
   "metadata": {},
   "outputs": [
    {
     "name": "stdout",
     "output_type": "stream",
     "text": [
      "1\n",
      "2\n",
      "3\n",
      "4\n",
      "i= 1 , j= 4\n",
      "2\n",
      "4\n",
      "6\n",
      "8\n",
      "i= 2 , j= 4\n",
      "3\n",
      "6\n",
      "9\n",
      "12\n",
      "i= 3 , j= 4\n",
      "4\n",
      "8\n",
      "12\n",
      "16\n",
      "i= 4 , j= 4\n"
     ]
    }
   ],
   "source": [
    "for i in range(1,5):\n",
    "    for j in range(1,5):\n",
    "        print(i*j)\n",
    "    print(\"i=\",i,\",\",\"j=\",j)"
   ]
  },
  {
   "cell_type": "code",
   "execution_count": 42,
   "id": "f3702388-a821-48fe-ac99-3fb81aec7781",
   "metadata": {},
   "outputs": [
    {
     "name": "stdout",
     "output_type": "stream",
     "text": [
      "* \n",
      "* * \n",
      "* * * \n",
      "* * * * \n",
      "* * * * * \n"
     ]
    }
   ],
   "source": [
    "### TASK\n",
    "\n",
    "for i in range(1,6):\n",
    "    for j in range(1,i+1):\n",
    "        print(\"*\",end=\" \")\n",
    "    print()"
   ]
  },
  {
   "cell_type": "code",
   "execution_count": 55,
   "id": "7bbeb664-ca0b-490e-a039-1360ce4dc421",
   "metadata": {},
   "outputs": [
    {
     "name": "stdout",
     "output_type": "stream",
     "text": [
      "* * * * * "
     ]
    }
   ],
   "source": [
    "for i in range(1,6):\n",
    "    print(\"*\",end=\" \")"
   ]
  },
  {
   "cell_type": "code",
   "execution_count": 57,
   "id": "6f7ec537-e5c5-41ca-b0c1-7a16acef93bc",
   "metadata": {
    "scrolled": true
   },
   "outputs": [
    {
     "name": "stdout",
     "output_type": "stream",
     "text": [
      "* \n",
      "\n",
      "* * * \n",
      "\n",
      "* * * * * \n",
      "\n",
      "* * * * * * * \n",
      "\n",
      "* * * * * * * * * \n"
     ]
    }
   ],
   "source": [
    "### TASK\n",
    "\n",
    "for i in range(1,10):\n",
    "    for j in range(1,i+1):\n",
    "        if i%2==1:\n",
    "            print(\"*\",end=\" \")\n",
    "    print()"
   ]
  },
  {
   "cell_type": "markdown",
   "id": "de7813ec-92dd-491e-a456-249b74bc09f1",
   "metadata": {},
   "source": [
    "## List comprehension: it offers the shortest syntax"
   ]
  },
  {
   "cell_type": "code",
   "execution_count": null,
   "id": "e617149a-ed6c-4df6-b1a2-fb9ec38007bc",
   "metadata": {},
   "outputs": [],
   "source": [
    "a=[1,2,3,4,5,6,7,8,9]\n",
    "b=[]"
   ]
  }
 ],
 "metadata": {
  "kernelspec": {
   "display_name": "Python 3 (ipykernel)",
   "language": "python",
   "name": "python3"
  },
  "language_info": {
   "codemirror_mode": {
    "name": "ipython",
    "version": 3
   },
   "file_extension": ".py",
   "mimetype": "text/x-python",
   "name": "python",
   "nbconvert_exporter": "python",
   "pygments_lexer": "ipython3",
   "version": "3.12.7"
  }
 },
 "nbformat": 4,
 "nbformat_minor": 5
}
